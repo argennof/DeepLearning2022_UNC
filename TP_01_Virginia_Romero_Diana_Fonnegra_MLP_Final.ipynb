{
 "cells": [
  {
   "cell_type": "markdown",
   "id": "fcef460c",
   "metadata": {},
   "source": [
    "# Aprendizaje Automatico - Diplodatos 2022\n",
    "Trabajo Práctico MLP "
   ]
  },
  {
   "cell_type": "code",
   "execution_count": 1,
   "id": "0ff88d29",
   "metadata": {},
   "outputs": [
    {
     "name": "stdout",
     "output_type": "stream",
     "text": [
      "Integrantes: \n",
      " \n",
      "Maria Virginia Romero Messein\n",
      "Diana Carolina Fonnegra Mora\n"
     ]
    }
   ],
   "source": [
    "integrantes = [\"Maria Virginia Romero Messein\", \"Diana Carolina Fonnegra Mora\"]\n",
    "print('Integrantes: \\n ',*integrantes, sep=\"\\n\")"
   ]
  },
  {
   "cell_type": "markdown",
   "id": "61478094",
   "metadata": {},
   "source": [
    "# Notebook 1 Basic MLP.\n",
    "En este práctico trabajaremos en el problema de clasificación de texto del MeLi Challenge 2019\n",
    "\n",
    "El datasets tiene información acerca de títulos de publicaciones, categoría de los mismos, información de idioma y confiabilidad de la anotación. Cuenta con anotaciones de títulos para 632 categorías distintas.\n",
    "\n",
    "El dataset también cuenta con una partición de test que está compuesta de 63680 de ejemplos con las mismas categorías (aunque no necesariamente la misma distribución).\n",
    "\n",
    "El ejercicio consiste en Implementar una red neuronal simple (MLP. Perceptrón Multicapa) que asigne una categoría dado un título.\n",
    "\n",
    "Algunas consideraciones a tener en cuenta para estructurar el trabajo:\n",
    "\n",
    "A) Hacer un preprocesamiento de los datos (¿Cómo vamos a representar los datos de entrada y las categorías?).\n",
    "\n",
    "B) Tener un manejador del dataset (alguna clase o función que nos divida los datos en batches).\n",
    "\n",
    "C) Crear una clase para el modelo que se pueda instanciar con diferentes hiperparámetros\n",
    "\n",
    "D) Hacer logs de entrenamiento (reportar tiempo transcurrido, iteraciones/s, loss, accuracy, etc.). Usar MLFlow.\n",
    "\n",
    "E) Hacer un gráfico de la función de loss a lo largo de las epochs. MLFlow también puede generar la gráfica.\n",
    "\n",
    "F) Reportar performance en el conjunto de test con el mejor modelo entrenado. La métrica para reportar será balanced accuracy.\n",
    "\n",
    "\n",
    "# Resultados del práctico 1:\n",
    "Para la resolución de las tareas propuestas realizamos los siguientes pasos. Primero definimos las librerías necesarias:"
   ]
  },
  {
   "cell_type": "code",
   "execution_count": 2,
   "id": "d6bb0c1e",
   "metadata": {},
   "outputs": [],
   "source": [
    "%matplotlib inline\n",
    "import matplotlib\n",
    "import matplotlib.pyplot as plt\n",
    "import seaborn\n",
    "import torch\n",
    "import torch.nn as nn\n",
    "import torch.optim as optim\n",
    "import torchvision\n",
    "import torchvision.transforms as transforms\n",
    "from torch.utils.data import Dataset, DataLoader, IterableDataset\n",
    "\n",
    "from gensim import corpora\n",
    "from gensim.parsing import preprocessing\n",
    "from gensim.models import KeyedVectors\n",
    "from gensim.parsing import preprocessing\n",
    "\n",
    "from sklearn import metrics\n",
    "from sklearn.model_selection import train_test_split\n",
    "from sklearn.metrics import average_precision_score\n",
    "from sklearn.metrics import classification_report\n",
    "\n",
    "import tqdm\n",
    "from tqdm.notebook import tqdm, trange\n",
    "from gensim.models import KeyedVectors\n",
    "\n",
    "import csv\n",
    "import functools\n",
    "import gzip\n",
    "import numpy as np\n",
    "import pandas as pd\n",
    "import tempfile\n",
    "import json\n",
    "import mlflow"
   ]
  },
  {
   "cell_type": "code",
   "execution_count": 3,
   "id": "2d7072dd",
   "metadata": {},
   "outputs": [
    {
     "data": {
      "text/plain": [
       "'1.10.1+cu111'"
      ]
     },
     "execution_count": 3,
     "metadata": {},
     "output_type": "execute_result"
    }
   ],
   "source": [
    "# confirmamos la version de pytorch:\n",
    "torch.__version__"
   ]
  },
  {
   "cell_type": "markdown",
   "id": "0531994f",
   "metadata": {},
   "source": [
    "Para la descarga de la información usamos:"
   ]
  },
  {
   "cell_type": "code",
   "execution_count": 4,
   "id": "396e3f16",
   "metadata": {},
   "outputs": [],
   "source": [
    "# #Los datos fueron cargados la primera vez que se ejecutó este bloque de código, por este motivo el código está comentado\n",
    "# !mkdir ./data\n",
    "# !curl -L https://cs.famaf.unc.edu.ar/\\~ccardellino/resources/diplodatos/glove.6B.50d.txt.gz -o ./data/glove.6B.50d.txt.gz\n",
    "# !curl -L https://cs.famaf.unc.edu.ar/\\~ccardellino/resources/diplodatos/meli-challenge-2019.tar.bz2 -o ./data/meli-challenge-2019.tar.bz2\n",
    "# !tar jxvf ./data/meli-challenge-2019.tar.bz2 -C ./data/\n",
    "# !pip install mlflow\n"
   ]
  },
  {
   "cell_type": "code",
   "execution_count": 5,
   "id": "7caee076",
   "metadata": {},
   "outputs": [],
   "source": [
    "# !wget https://cs.famaf.unc.edu.ar/~ccardellino/SBWCE/SBW-vectors-300-min5.txt.bz2"
   ]
  },
  {
   "cell_type": "code",
   "execution_count": 6,
   "id": "9c144dd7",
   "metadata": {},
   "outputs": [],
   "source": [
    "# !curl -L https://cs.famaf.unc.edu.ar/\\~ccardellino/resources/diplodatos/SBW-vectors-300-min5.txt.bz2 -o ./data/SBW-vectors-300-min5.txt.bz2\n",
    "# !tar -xf ./data/SBW-vectors-300-min5.txt.bz2 -C ./data/"
   ]
  },
  {
   "cell_type": "markdown",
   "id": "90e2c315",
   "metadata": {},
   "source": [
    "Leemos el conjunto de datos fragmentado:"
   ]
  },
  {
   "cell_type": "code",
   "execution_count": 7,
   "id": "a4dd6318",
   "metadata": {},
   "outputs": [
    {
     "data": {
      "text/html": [
       "<div>\n",
       "<style scoped>\n",
       "    .dataframe tbody tr th:only-of-type {\n",
       "        vertical-align: middle;\n",
       "    }\n",
       "\n",
       "    .dataframe tbody tr th {\n",
       "        vertical-align: top;\n",
       "    }\n",
       "\n",
       "    .dataframe thead th {\n",
       "        text-align: right;\n",
       "    }\n",
       "</style>\n",
       "<table border=\"1\" class=\"dataframe\">\n",
       "  <thead>\n",
       "    <tr style=\"text-align: right;\">\n",
       "      <th></th>\n",
       "      <th>language</th>\n",
       "      <th>label_quality</th>\n",
       "      <th>title</th>\n",
       "      <th>category</th>\n",
       "      <th>split</th>\n",
       "      <th>tokenized_title</th>\n",
       "      <th>data</th>\n",
       "      <th>target</th>\n",
       "      <th>n_labels</th>\n",
       "      <th>size</th>\n",
       "    </tr>\n",
       "  </thead>\n",
       "  <tbody>\n",
       "    <tr>\n",
       "      <th>0</th>\n",
       "      <td>spanish</td>\n",
       "      <td>reliable</td>\n",
       "      <td>Casita Muñecas Barbies Pintadas</td>\n",
       "      <td>DOLLHOUSES</td>\n",
       "      <td>train</td>\n",
       "      <td>[casita, muñecas, barbies, pintadas]</td>\n",
       "      <td>[50001, 2, 50000, 3]</td>\n",
       "      <td>0</td>\n",
       "      <td>632</td>\n",
       "      <td>4895280</td>\n",
       "    </tr>\n",
       "    <tr>\n",
       "      <th>1</th>\n",
       "      <td>spanish</td>\n",
       "      <td>unreliable</td>\n",
       "      <td>Neceser Cromado Holográfico</td>\n",
       "      <td>TOILETRY_BAGS</td>\n",
       "      <td>train</td>\n",
       "      <td>[neceser, cromado, holográfico]</td>\n",
       "      <td>[6, 4, 5]</td>\n",
       "      <td>1</td>\n",
       "      <td>632</td>\n",
       "      <td>4895280</td>\n",
       "    </tr>\n",
       "    <tr>\n",
       "      <th>2</th>\n",
       "      <td>spanish</td>\n",
       "      <td>unreliable</td>\n",
       "      <td>Funda Asiento A Medida D20 Chevrolet</td>\n",
       "      <td>CAR_SEAT_COVERS</td>\n",
       "      <td>train</td>\n",
       "      <td>[funda, asiento, medida, chevrolet]</td>\n",
       "      <td>[9, 7, 10, 8]</td>\n",
       "      <td>2</td>\n",
       "      <td>632</td>\n",
       "      <td>4895280</td>\n",
       "    </tr>\n",
       "  </tbody>\n",
       "</table>\n",
       "</div>"
      ],
      "text/plain": [
       "  language label_quality                                 title  \\\n",
       "0  spanish      reliable       Casita Muñecas Barbies Pintadas   \n",
       "1  spanish    unreliable          Neceser Cromado Holográfico    \n",
       "2  spanish    unreliable  Funda Asiento A Medida D20 Chevrolet   \n",
       "\n",
       "          category  split                       tokenized_title  \\\n",
       "0       DOLLHOUSES  train  [casita, muñecas, barbies, pintadas]   \n",
       "1    TOILETRY_BAGS  train       [neceser, cromado, holográfico]   \n",
       "2  CAR_SEAT_COVERS  train   [funda, asiento, medida, chevrolet]   \n",
       "\n",
       "                   data  target  n_labels     size  \n",
       "0  [50001, 2, 50000, 3]       0       632  4895280  \n",
       "1             [6, 4, 5]       1       632  4895280  \n",
       "2         [9, 7, 10, 8]       2       632  4895280  "
      ]
     },
     "execution_count": 7,
     "metadata": {},
     "output_type": "execute_result"
    }
   ],
   "source": [
    "# Definimos el conjunto de datos de entrenamiento / Formato Json a Dataframe:\n",
    "train_df = pd.concat([x for x in pd.read_json('./data/meli-challenge-2019/spanish.train.jsonl.gz',\\\n",
    "                                              lines=True, chunksize=100000)], ignore_index=True)\n",
    "train_df.head(3)"
   ]
  },
  {
   "cell_type": "code",
   "execution_count": 8,
   "id": "e874eb67",
   "metadata": {},
   "outputs": [
    {
     "data": {
      "text/html": [
       "<div>\n",
       "<style scoped>\n",
       "    .dataframe tbody tr th:only-of-type {\n",
       "        vertical-align: middle;\n",
       "    }\n",
       "\n",
       "    .dataframe tbody tr th {\n",
       "        vertical-align: top;\n",
       "    }\n",
       "\n",
       "    .dataframe thead th {\n",
       "        text-align: right;\n",
       "    }\n",
       "</style>\n",
       "<table border=\"1\" class=\"dataframe\">\n",
       "  <thead>\n",
       "    <tr style=\"text-align: right;\">\n",
       "      <th></th>\n",
       "      <th>language</th>\n",
       "      <th>label_quality</th>\n",
       "      <th>title</th>\n",
       "      <th>category</th>\n",
       "      <th>split</th>\n",
       "      <th>tokenized_title</th>\n",
       "      <th>data</th>\n",
       "      <th>target</th>\n",
       "      <th>n_labels</th>\n",
       "      <th>size</th>\n",
       "    </tr>\n",
       "  </thead>\n",
       "  <tbody>\n",
       "    <tr>\n",
       "      <th>0</th>\n",
       "      <td>spanish</td>\n",
       "      <td>reliable</td>\n",
       "      <td>Casita Muñecas Barbies Pintadas</td>\n",
       "      <td>DOLLHOUSES</td>\n",
       "      <td>train</td>\n",
       "      <td>[casita, muñecas, barbies, pintadas]</td>\n",
       "      <td>[50001, 2, 50000, 3]</td>\n",
       "      <td>0</td>\n",
       "      <td>632</td>\n",
       "      <td>4895280</td>\n",
       "    </tr>\n",
       "    <tr>\n",
       "      <th>1</th>\n",
       "      <td>spanish</td>\n",
       "      <td>unreliable</td>\n",
       "      <td>Neceser Cromado Holográfico</td>\n",
       "      <td>TOILETRY_BAGS</td>\n",
       "      <td>train</td>\n",
       "      <td>[neceser, cromado, holográfico]</td>\n",
       "      <td>[6, 4, 5]</td>\n",
       "      <td>1</td>\n",
       "      <td>632</td>\n",
       "      <td>4895280</td>\n",
       "    </tr>\n",
       "    <tr>\n",
       "      <th>2</th>\n",
       "      <td>spanish</td>\n",
       "      <td>unreliable</td>\n",
       "      <td>Funda Asiento A Medida D20 Chevrolet</td>\n",
       "      <td>CAR_SEAT_COVERS</td>\n",
       "      <td>train</td>\n",
       "      <td>[funda, asiento, medida, chevrolet]</td>\n",
       "      <td>[9, 7, 10, 8]</td>\n",
       "      <td>2</td>\n",
       "      <td>632</td>\n",
       "      <td>4895280</td>\n",
       "    </tr>\n",
       "    <tr>\n",
       "      <th>3</th>\n",
       "      <td>spanish</td>\n",
       "      <td>unreliable</td>\n",
       "      <td>Embrague Ford Focus One 1.8 8v Td (90cv) Desde...</td>\n",
       "      <td>AUTOMOTIVE_CLUTCH_KITS</td>\n",
       "      <td>train</td>\n",
       "      <td>[embrague, ford, focus, one]</td>\n",
       "      <td>[11, 13, 12, 14]</td>\n",
       "      <td>3</td>\n",
       "      <td>632</td>\n",
       "      <td>4895280</td>\n",
       "    </tr>\n",
       "    <tr>\n",
       "      <th>4</th>\n",
       "      <td>spanish</td>\n",
       "      <td>unreliable</td>\n",
       "      <td>Bateria Panasonic Dmwbcf10 Lumix Dmc-fx60n Dmc...</td>\n",
       "      <td>CAMERA_BATTERIES</td>\n",
       "      <td>train</td>\n",
       "      <td>[bateria, panasonic, dmwbcf, lumix, dmc, fxn, ...</td>\n",
       "      <td>[15, 19, 17, 18, 16, 1, 1, 1]</td>\n",
       "      <td>4</td>\n",
       "      <td>632</td>\n",
       "      <td>4895280</td>\n",
       "    </tr>\n",
       "    <tr>\n",
       "      <th>...</th>\n",
       "      <td>...</td>\n",
       "      <td>...</td>\n",
       "      <td>...</td>\n",
       "      <td>...</td>\n",
       "      <td>...</td>\n",
       "      <td>...</td>\n",
       "      <td>...</td>\n",
       "      <td>...</td>\n",
       "      <td>...</td>\n",
       "      <td>...</td>\n",
       "    </tr>\n",
       "    <tr>\n",
       "      <th>4895275</th>\n",
       "      <td>spanish</td>\n",
       "      <td>unreliable</td>\n",
       "      <td>Kit 2 Bieletas Delanteras Monroe Vw Fox 1.6 - ...</td>\n",
       "      <td>SWAY_BAR_LINKS</td>\n",
       "      <td>train</td>\n",
       "      <td>[kit, bieletas, delanteras, monroe, fox]</td>\n",
       "      <td>[521, 4798, 9027, 3896, 593]</td>\n",
       "      <td>28</td>\n",
       "      <td>632</td>\n",
       "      <td>4895280</td>\n",
       "    </tr>\n",
       "    <tr>\n",
       "      <th>4895276</th>\n",
       "      <td>spanish</td>\n",
       "      <td>unreliable</td>\n",
       "      <td>Organo Teclado Casio Ct-x5000 61 Teclas Profes...</td>\n",
       "      <td>MUSICAL_KEYBOARDS</td>\n",
       "      <td>train</td>\n",
       "      <td>[organo, teclado, casio, teclas, profesional, ...</td>\n",
       "      <td>[104, 30, 101, 6035, 962, 769]</td>\n",
       "      <td>24</td>\n",
       "      <td>632</td>\n",
       "      <td>4895280</td>\n",
       "    </tr>\n",
       "    <tr>\n",
       "      <th>4895277</th>\n",
       "      <td>spanish</td>\n",
       "      <td>reliable</td>\n",
       "      <td>Mochila Impermeable Belvento Fausto</td>\n",
       "      <td>BACKPACKS</td>\n",
       "      <td>train</td>\n",
       "      <td>[mochila, impermeable, belvento, fausto]</td>\n",
       "      <td>[337, 2560, 1, 4711]</td>\n",
       "      <td>74</td>\n",
       "      <td>632</td>\n",
       "      <td>4895280</td>\n",
       "    </tr>\n",
       "    <tr>\n",
       "      <th>4895278</th>\n",
       "      <td>spanish</td>\n",
       "      <td>unreliable</td>\n",
       "      <td>Mochila San Lorenzo De Espalda 16p Sl001</td>\n",
       "      <td>BACKPACKS</td>\n",
       "      <td>train</td>\n",
       "      <td>[mochila, san, lorenzo, espalda]</td>\n",
       "      <td>[337, 2125, 4974, 335]</td>\n",
       "      <td>74</td>\n",
       "      <td>632</td>\n",
       "      <td>4895280</td>\n",
       "    </tr>\n",
       "    <tr>\n",
       "      <th>4895279</th>\n",
       "      <td>spanish</td>\n",
       "      <td>reliable</td>\n",
       "      <td>1 Kit Imprimible X 8 Sets Primavera Flores P/ ...</td>\n",
       "      <td>PARTY_PRINTABLE_KITS</td>\n",
       "      <td>train</td>\n",
       "      <td>[kit, imprimible, sets, primavera, flores, est...</td>\n",
       "      <td>[521, 2333, 13749, 6259, 3741, 775]</td>\n",
       "      <td>388</td>\n",
       "      <td>632</td>\n",
       "      <td>4895280</td>\n",
       "    </tr>\n",
       "  </tbody>\n",
       "</table>\n",
       "<p>4895280 rows × 10 columns</p>\n",
       "</div>"
      ],
      "text/plain": [
       "        language label_quality  \\\n",
       "0        spanish      reliable   \n",
       "1        spanish    unreliable   \n",
       "2        spanish    unreliable   \n",
       "3        spanish    unreliable   \n",
       "4        spanish    unreliable   \n",
       "...          ...           ...   \n",
       "4895275  spanish    unreliable   \n",
       "4895276  spanish    unreliable   \n",
       "4895277  spanish      reliable   \n",
       "4895278  spanish    unreliable   \n",
       "4895279  spanish      reliable   \n",
       "\n",
       "                                                     title  \\\n",
       "0                          Casita Muñecas Barbies Pintadas   \n",
       "1                             Neceser Cromado Holográfico    \n",
       "2                     Funda Asiento A Medida D20 Chevrolet   \n",
       "3        Embrague Ford Focus One 1.8 8v Td (90cv) Desde...   \n",
       "4        Bateria Panasonic Dmwbcf10 Lumix Dmc-fx60n Dmc...   \n",
       "...                                                    ...   \n",
       "4895275  Kit 2 Bieletas Delanteras Monroe Vw Fox 1.6 - ...   \n",
       "4895276  Organo Teclado Casio Ct-x5000 61 Teclas Profes...   \n",
       "4895277                Mochila Impermeable Belvento Fausto   \n",
       "4895278           Mochila San Lorenzo De Espalda 16p Sl001   \n",
       "4895279  1 Kit Imprimible X 8 Sets Primavera Flores P/ ...   \n",
       "\n",
       "                       category  split  \\\n",
       "0                    DOLLHOUSES  train   \n",
       "1                 TOILETRY_BAGS  train   \n",
       "2               CAR_SEAT_COVERS  train   \n",
       "3        AUTOMOTIVE_CLUTCH_KITS  train   \n",
       "4              CAMERA_BATTERIES  train   \n",
       "...                         ...    ...   \n",
       "4895275          SWAY_BAR_LINKS  train   \n",
       "4895276       MUSICAL_KEYBOARDS  train   \n",
       "4895277               BACKPACKS  train   \n",
       "4895278               BACKPACKS  train   \n",
       "4895279    PARTY_PRINTABLE_KITS  train   \n",
       "\n",
       "                                           tokenized_title  \\\n",
       "0                     [casita, muñecas, barbies, pintadas]   \n",
       "1                          [neceser, cromado, holográfico]   \n",
       "2                      [funda, asiento, medida, chevrolet]   \n",
       "3                             [embrague, ford, focus, one]   \n",
       "4        [bateria, panasonic, dmwbcf, lumix, dmc, fxn, ...   \n",
       "...                                                    ...   \n",
       "4895275           [kit, bieletas, delanteras, monroe, fox]   \n",
       "4895276  [organo, teclado, casio, teclas, profesional, ...   \n",
       "4895277           [mochila, impermeable, belvento, fausto]   \n",
       "4895278                   [mochila, san, lorenzo, espalda]   \n",
       "4895279  [kit, imprimible, sets, primavera, flores, est...   \n",
       "\n",
       "                                        data  target  n_labels     size  \n",
       "0                       [50001, 2, 50000, 3]       0       632  4895280  \n",
       "1                                  [6, 4, 5]       1       632  4895280  \n",
       "2                              [9, 7, 10, 8]       2       632  4895280  \n",
       "3                           [11, 13, 12, 14]       3       632  4895280  \n",
       "4              [15, 19, 17, 18, 16, 1, 1, 1]       4       632  4895280  \n",
       "...                                      ...     ...       ...      ...  \n",
       "4895275         [521, 4798, 9027, 3896, 593]      28       632  4895280  \n",
       "4895276       [104, 30, 101, 6035, 962, 769]      24       632  4895280  \n",
       "4895277                 [337, 2560, 1, 4711]      74       632  4895280  \n",
       "4895278               [337, 2125, 4974, 335]      74       632  4895280  \n",
       "4895279  [521, 2333, 13749, 6259, 3741, 775]     388       632  4895280  \n",
       "\n",
       "[4895280 rows x 10 columns]"
      ]
     },
     "execution_count": 8,
     "metadata": {},
     "output_type": "execute_result"
    }
   ],
   "source": [
    "train_df"
   ]
  },
  {
   "cell_type": "code",
   "execution_count": 9,
   "id": "12a5cad1",
   "metadata": {},
   "outputs": [
    {
     "name": "stdout",
     "output_type": "stream",
     "text": [
      "<class 'pandas.core.frame.DataFrame'>\n",
      "RangeIndex: 4895280 entries, 0 to 4895279\n",
      "Data columns (total 10 columns):\n",
      " #   Column           Dtype \n",
      "---  ------           ----- \n",
      " 0   language         object\n",
      " 1   label_quality    object\n",
      " 2   title            object\n",
      " 3   category         object\n",
      " 4   split            object\n",
      " 5   tokenized_title  object\n",
      " 6   data             object\n",
      " 7   target           int64 \n",
      " 8   n_labels         int64 \n",
      " 9   size             int64 \n",
      "dtypes: int64(3), object(7)\n",
      "memory usage: 373.5+ MB\n"
     ]
    }
   ],
   "source": [
    "train_df.info()"
   ]
  },
  {
   "cell_type": "code",
   "execution_count": 10,
   "id": "525d86e6",
   "metadata": {},
   "outputs": [
    {
     "data": {
      "text/html": [
       "<div>\n",
       "<style scoped>\n",
       "    .dataframe tbody tr th:only-of-type {\n",
       "        vertical-align: middle;\n",
       "    }\n",
       "\n",
       "    .dataframe tbody tr th {\n",
       "        vertical-align: top;\n",
       "    }\n",
       "\n",
       "    .dataframe thead th {\n",
       "        text-align: right;\n",
       "    }\n",
       "</style>\n",
       "<table border=\"1\" class=\"dataframe\">\n",
       "  <thead>\n",
       "    <tr style=\"text-align: right;\">\n",
       "      <th></th>\n",
       "      <th>language</th>\n",
       "      <th>label_quality</th>\n",
       "      <th>title</th>\n",
       "      <th>category</th>\n",
       "      <th>split</th>\n",
       "      <th>tokenized_title</th>\n",
       "      <th>data</th>\n",
       "      <th>target</th>\n",
       "      <th>n_labels</th>\n",
       "      <th>size</th>\n",
       "    </tr>\n",
       "  </thead>\n",
       "  <tbody>\n",
       "    <tr>\n",
       "      <th>1223817</th>\n",
       "      <td>spanish</td>\n",
       "      <td>unreliable</td>\n",
       "      <td>Kit Portero Eléctrico P/5 Dptos Commax</td>\n",
       "      <td>ELECTRONIC_ENTRANCE_INTERCOMS</td>\n",
       "      <td>validation</td>\n",
       "      <td>[kit, portero, eléctrico, dptos, commax]</td>\n",
       "      <td>[521, 552, 495, 45123, 549]</td>\n",
       "      <td>114</td>\n",
       "      <td>632</td>\n",
       "      <td>1223820</td>\n",
       "    </tr>\n",
       "    <tr>\n",
       "      <th>1223818</th>\n",
       "      <td>spanish</td>\n",
       "      <td>reliable</td>\n",
       "      <td>Pedigree Cachorros 21kg Envío Gratis San Isidr...</td>\n",
       "      <td>CATS_AND_DOGS_FOODS</td>\n",
       "      <td>validation</td>\n",
       "      <td>[pedigree, cachorros, envío, gratis, san, isid...</td>\n",
       "      <td>[4683, 3490, 1465, 1429, 2125, 11856, 11857]</td>\n",
       "      <td>178</td>\n",
       "      <td>632</td>\n",
       "      <td>1223820</td>\n",
       "    </tr>\n",
       "    <tr>\n",
       "      <th>1223819</th>\n",
       "      <td>spanish</td>\n",
       "      <td>unreliable</td>\n",
       "      <td>Instrumental Quirúrgico -  Pinza Gemini 28 Cm</td>\n",
       "      <td>DENTAL_PLIERS</td>\n",
       "      <td>validation</td>\n",
       "      <td>[instrumental, quirúrgico, pinza, gemini]</td>\n",
       "      <td>[3886, 3206, 1514, 11349]</td>\n",
       "      <td>500</td>\n",
       "      <td>632</td>\n",
       "      <td>1223820</td>\n",
       "    </tr>\n",
       "  </tbody>\n",
       "</table>\n",
       "</div>"
      ],
      "text/plain": [
       "        language label_quality  \\\n",
       "1223817  spanish    unreliable   \n",
       "1223818  spanish      reliable   \n",
       "1223819  spanish    unreliable   \n",
       "\n",
       "                                                     title  \\\n",
       "1223817             Kit Portero Eléctrico P/5 Dptos Commax   \n",
       "1223818  Pedigree Cachorros 21kg Envío Gratis San Isidr...   \n",
       "1223819      Instrumental Quirúrgico -  Pinza Gemini 28 Cm   \n",
       "\n",
       "                              category       split  \\\n",
       "1223817  ELECTRONIC_ENTRANCE_INTERCOMS  validation   \n",
       "1223818            CATS_AND_DOGS_FOODS  validation   \n",
       "1223819                  DENTAL_PLIERS  validation   \n",
       "\n",
       "                                           tokenized_title  \\\n",
       "1223817           [kit, portero, eléctrico, dptos, commax]   \n",
       "1223818  [pedigree, cachorros, envío, gratis, san, isid...   \n",
       "1223819          [instrumental, quirúrgico, pinza, gemini]   \n",
       "\n",
       "                                                 data  target  n_labels  \\\n",
       "1223817                   [521, 552, 495, 45123, 549]     114       632   \n",
       "1223818  [4683, 3490, 1465, 1429, 2125, 11856, 11857]     178       632   \n",
       "1223819                     [3886, 3206, 1514, 11349]     500       632   \n",
       "\n",
       "            size  \n",
       "1223817  1223820  \n",
       "1223818  1223820  \n",
       "1223819  1223820  "
      ]
     },
     "execution_count": 10,
     "metadata": {},
     "output_type": "execute_result"
    }
   ],
   "source": [
    "# Definimos el conjunto de datos de test / Formato Json a Dataframe:\n",
    "valid_df = pd.concat([x for x in pd.read_json('./data/meli-challenge-2019/spanish.validation.jsonl.gz',\\\n",
    "                                              lines=True, chunksize=100000)], ignore_index=True)\n",
    "valid_df.tail(3)\n",
    "# train_df = pd.concat([x for x in pd.read_json('./data/meli-challenge-2019/spanish.train.jsonl.gz',\\\n",
    "#                                               lines=True, chunksize=100000)], ignore_index=True)\n",
    "# pd.read_json(\"/content/data/meli-challenge-2019/spanish.validation.jsonl.gz\",lines=True, orient='records')"
   ]
  },
  {
   "cell_type": "code",
   "execution_count": 11,
   "id": "7cd72838",
   "metadata": {},
   "outputs": [
    {
     "name": "stdout",
     "output_type": "stream",
     "text": [
      "<class 'pandas.core.frame.DataFrame'>\n",
      "RangeIndex: 4895280 entries, 0 to 4895279\n",
      "Data columns (total 10 columns):\n",
      " #   Column           Dtype \n",
      "---  ------           ----- \n",
      " 0   language         object\n",
      " 1   label_quality    object\n",
      " 2   title            object\n",
      " 3   category         object\n",
      " 4   split            object\n",
      " 5   tokenized_title  object\n",
      " 6   data             object\n",
      " 7   target           int64 \n",
      " 8   n_labels         int64 \n",
      " 9   size             int64 \n",
      "dtypes: int64(3), object(7)\n",
      "memory usage: 373.5+ MB\n"
     ]
    }
   ],
   "source": [
    "train_df.info()"
   ]
  },
  {
   "cell_type": "code",
   "execution_count": 12,
   "id": "f1e4a43d",
   "metadata": {},
   "outputs": [
    {
     "data": {
      "text/html": [
       "<div>\n",
       "<style scoped>\n",
       "    .dataframe tbody tr th:only-of-type {\n",
       "        vertical-align: middle;\n",
       "    }\n",
       "\n",
       "    .dataframe tbody tr th {\n",
       "        vertical-align: top;\n",
       "    }\n",
       "\n",
       "    .dataframe thead th {\n",
       "        text-align: right;\n",
       "    }\n",
       "</style>\n",
       "<table border=\"1\" class=\"dataframe\">\n",
       "  <thead>\n",
       "    <tr style=\"text-align: right;\">\n",
       "      <th></th>\n",
       "      <th>language</th>\n",
       "      <th>label_quality</th>\n",
       "      <th>title</th>\n",
       "      <th>category</th>\n",
       "      <th>split</th>\n",
       "      <th>tokenized_title</th>\n",
       "      <th>data</th>\n",
       "      <th>target</th>\n",
       "      <th>n_labels</th>\n",
       "      <th>size</th>\n",
       "    </tr>\n",
       "  </thead>\n",
       "  <tbody>\n",
       "    <tr>\n",
       "      <th>63677</th>\n",
       "      <td>spanish</td>\n",
       "      <td>reliable</td>\n",
       "      <td>Gimnasio Bebe Manta Didactica Tiny Love Kick A...</td>\n",
       "      <td>BABY_GYMS</td>\n",
       "      <td>test</td>\n",
       "      <td>[gimnasio, bebe, manta, didactica, tiny, love,...</td>\n",
       "      <td>[1305, 915, 2620, 9537, 1308, 49, 6872, 1512, ...</td>\n",
       "      <td>258</td>\n",
       "      <td>632</td>\n",
       "      <td>63680</td>\n",
       "    </tr>\n",
       "    <tr>\n",
       "      <th>63678</th>\n",
       "      <td>spanish</td>\n",
       "      <td>reliable</td>\n",
       "      <td>Gimnasio Manta Alfombra Didactica Fitchbaby Ju...</td>\n",
       "      <td>BABY_GYMS</td>\n",
       "      <td>test</td>\n",
       "      <td>[gimnasio, manta, alfombra, didactica, fitchba...</td>\n",
       "      <td>[1305, 2620, 794, 9537, 1, 282, 9424]</td>\n",
       "      <td>258</td>\n",
       "      <td>632</td>\n",
       "      <td>63680</td>\n",
       "    </tr>\n",
       "    <tr>\n",
       "      <th>63679</th>\n",
       "      <td>spanish</td>\n",
       "      <td>reliable</td>\n",
       "      <td>Gimnasio P/ Bebé Alfombra Zoo Animales Didácti...</td>\n",
       "      <td>BABY_GYMS</td>\n",
       "      <td>test</td>\n",
       "      <td>[gimnasio, bebé, alfombra, zoo, animales, didá...</td>\n",
       "      <td>[1305, 659, 794, 20048, 1091, 14707, 4716]</td>\n",
       "      <td>258</td>\n",
       "      <td>632</td>\n",
       "      <td>63680</td>\n",
       "    </tr>\n",
       "  </tbody>\n",
       "</table>\n",
       "</div>"
      ],
      "text/plain": [
       "      language label_quality  \\\n",
       "63677  spanish      reliable   \n",
       "63678  spanish      reliable   \n",
       "63679  spanish      reliable   \n",
       "\n",
       "                                                   title   category split  \\\n",
       "63677  Gimnasio Bebe Manta Didactica Tiny Love Kick A...  BABY_GYMS  test   \n",
       "63678  Gimnasio Manta Alfombra Didactica Fitchbaby Ju...  BABY_GYMS  test   \n",
       "63679  Gimnasio P/ Bebé Alfombra Zoo Animales Didácti...  BABY_GYMS  test   \n",
       "\n",
       "                                         tokenized_title  \\\n",
       "63677  [gimnasio, bebe, manta, didactica, tiny, love,...   \n",
       "63678  [gimnasio, manta, alfombra, didactica, fitchba...   \n",
       "63679  [gimnasio, bebé, alfombra, zoo, animales, didá...   \n",
       "\n",
       "                                                    data  target  n_labels  \\\n",
       "63677  [1305, 915, 2620, 9537, 1308, 49, 6872, 1512, ...     258       632   \n",
       "63678              [1305, 2620, 794, 9537, 1, 282, 9424]     258       632   \n",
       "63679         [1305, 659, 794, 20048, 1091, 14707, 4716]     258       632   \n",
       "\n",
       "        size  \n",
       "63677  63680  \n",
       "63678  63680  \n",
       "63679  63680  "
      ]
     },
     "execution_count": 12,
     "metadata": {},
     "output_type": "execute_result"
    }
   ],
   "source": [
    "# Definimos el conjunto de datos de test / Formato Json a Dataframe:\n",
    "test_df = pd.concat([x for x in pd.read_json('./data/meli-challenge-2019/spanish.test.jsonl.gz',\\\n",
    "                                             lines=True, chunksize=100000)], ignore_index=True)\n",
    "test_df.tail(3)"
   ]
  },
  {
   "cell_type": "code",
   "execution_count": 13,
   "id": "d3b37980",
   "metadata": {},
   "outputs": [
    {
     "name": "stdout",
     "output_type": "stream",
     "text": [
      "Forma del conjunto de datos entrenamiento: (4895280, 2), \n",
      "          category                                 title\n",
      "0       DOLLHOUSES       Casita Muñecas Barbies Pintadas\n",
      "1    TOILETRY_BAGS          Neceser Cromado Holográfico \n",
      "2  CAR_SEAT_COVERS  Funda Asiento A Medida D20 Chevrolet\n",
      "\n",
      "<class 'pandas.core.frame.DataFrame'>\n",
      "RangeIndex: 4895280 entries, 0 to 4895279\n",
      "Data columns (total 2 columns):\n",
      " #   Column    Dtype \n",
      "---  ------    ----- \n",
      " 0   category  object\n",
      " 1   title     object\n",
      "dtypes: object(2)\n",
      "memory usage: 74.7+ MB\n"
     ]
    }
   ],
   "source": [
    "# creando dos subdataset y dando información general: \n",
    "df_train = train_df.loc[:, ['category', 'title']]\n",
    "print(f'Forma del conjunto de datos entrenamiento: {df_train.shape}, \\n{df_train.head(3)}\\n')\n",
    "df_train.info()"
   ]
  },
  {
   "cell_type": "code",
   "execution_count": 14,
   "id": "9a202117",
   "metadata": {},
   "outputs": [
    {
     "name": "stdout",
     "output_type": "stream",
     "text": [
      "Forma del conjunto de datos prueba: (63680, 2), \n",
      "      category                                              title\n",
      "0  DIAPER_BAGS  Mochilas Maternales Bolsos Bebe Simil Cuero Ma...\n",
      "1  DIAPER_BAGS  Bolso Maternal/bebe Incluye Cambiador + Correa...\n",
      "2  DIAPER_BAGS    Mochila Maternal Land  + Gancho Envio Gratis-cc\n",
      "\n",
      "<class 'pandas.core.frame.DataFrame'>\n",
      "RangeIndex: 63680 entries, 0 to 63679\n",
      "Data columns (total 2 columns):\n",
      " #   Column    Non-Null Count  Dtype \n",
      "---  ------    --------------  ----- \n",
      " 0   category  63680 non-null  object\n",
      " 1   title     63680 non-null  object\n",
      "dtypes: object(2)\n",
      "memory usage: 995.1+ KB\n"
     ]
    }
   ],
   "source": [
    "# Ahora con datos de prueba:\n",
    "df_test = test_df.loc[:, ['category', 'title']]\n",
    "print(f'Forma del conjunto de datos prueba: {df_test.shape}, \\n{df_test.head(3)}\\n')\n",
    "df_test.info()"
   ]
  },
  {
   "cell_type": "code",
   "execution_count": 15,
   "id": "c8082be9",
   "metadata": {},
   "outputs": [
    {
     "data": {
      "text/html": [
       "<div>\n",
       "<style scoped>\n",
       "    .dataframe tbody tr th:only-of-type {\n",
       "        vertical-align: middle;\n",
       "    }\n",
       "\n",
       "    .dataframe tbody tr th {\n",
       "        vertical-align: top;\n",
       "    }\n",
       "\n",
       "    .dataframe thead th {\n",
       "        text-align: right;\n",
       "    }\n",
       "</style>\n",
       "<table border=\"1\" class=\"dataframe\">\n",
       "  <thead>\n",
       "    <tr style=\"text-align: right;\">\n",
       "      <th></th>\n",
       "      <th>category</th>\n",
       "      <th>title</th>\n",
       "    </tr>\n",
       "  </thead>\n",
       "  <tbody>\n",
       "    <tr>\n",
       "      <th>0</th>\n",
       "      <td>DIAPER_BAGS</td>\n",
       "      <td>Mochilas Maternales Bolsos Bebe Simil Cuero Ma...</td>\n",
       "    </tr>\n",
       "    <tr>\n",
       "      <th>1</th>\n",
       "      <td>DIAPER_BAGS</td>\n",
       "      <td>Bolso Maternal/bebe Incluye Cambiador + Correa...</td>\n",
       "    </tr>\n",
       "    <tr>\n",
       "      <th>2</th>\n",
       "      <td>DIAPER_BAGS</td>\n",
       "      <td>Mochila Maternal Land  + Gancho Envio Gratis-cc</td>\n",
       "    </tr>\n",
       "    <tr>\n",
       "      <th>3</th>\n",
       "      <td>DIAPER_BAGS</td>\n",
       "      <td>Bolso Maternal Moderno Con Cambiador Y Correa ...</td>\n",
       "    </tr>\n",
       "    <tr>\n",
       "      <th>4</th>\n",
       "      <td>DIAPER_BAGS</td>\n",
       "      <td>Bolso Maternal Moderno Con Cambiador Y Correa ...</td>\n",
       "    </tr>\n",
       "    <tr>\n",
       "      <th>...</th>\n",
       "      <td>...</td>\n",
       "      <td>...</td>\n",
       "    </tr>\n",
       "    <tr>\n",
       "      <th>63675</th>\n",
       "      <td>BABY_GYMS</td>\n",
       "      <td>Gimnasio Gym Manta Bebe Tiny Love Musica Luz M...</td>\n",
       "    </tr>\n",
       "    <tr>\n",
       "      <th>63676</th>\n",
       "      <td>BABY_GYMS</td>\n",
       "      <td>Gimnasio Manta Con Actividades Para Bebe 846 Ath</td>\n",
       "    </tr>\n",
       "    <tr>\n",
       "      <th>63677</th>\n",
       "      <td>BABY_GYMS</td>\n",
       "      <td>Gimnasio Bebe Manta Didactica Tiny Love Kick A...</td>\n",
       "    </tr>\n",
       "    <tr>\n",
       "      <th>63678</th>\n",
       "      <td>BABY_GYMS</td>\n",
       "      <td>Gimnasio Manta Alfombra Didactica Fitchbaby Ju...</td>\n",
       "    </tr>\n",
       "    <tr>\n",
       "      <th>63679</th>\n",
       "      <td>BABY_GYMS</td>\n",
       "      <td>Gimnasio P/ Bebé Alfombra Zoo Animales Didácti...</td>\n",
       "    </tr>\n",
       "  </tbody>\n",
       "</table>\n",
       "<p>63680 rows × 2 columns</p>\n",
       "</div>"
      ],
      "text/plain": [
       "          category                                              title\n",
       "0      DIAPER_BAGS  Mochilas Maternales Bolsos Bebe Simil Cuero Ma...\n",
       "1      DIAPER_BAGS  Bolso Maternal/bebe Incluye Cambiador + Correa...\n",
       "2      DIAPER_BAGS    Mochila Maternal Land  + Gancho Envio Gratis-cc\n",
       "3      DIAPER_BAGS  Bolso Maternal Moderno Con Cambiador Y Correa ...\n",
       "4      DIAPER_BAGS  Bolso Maternal Moderno Con Cambiador Y Correa ...\n",
       "...            ...                                                ...\n",
       "63675    BABY_GYMS  Gimnasio Gym Manta Bebe Tiny Love Musica Luz M...\n",
       "63676    BABY_GYMS   Gimnasio Manta Con Actividades Para Bebe 846 Ath\n",
       "63677    BABY_GYMS  Gimnasio Bebe Manta Didactica Tiny Love Kick A...\n",
       "63678    BABY_GYMS  Gimnasio Manta Alfombra Didactica Fitchbaby Ju...\n",
       "63679    BABY_GYMS  Gimnasio P/ Bebé Alfombra Zoo Animales Didácti...\n",
       "\n",
       "[63680 rows x 2 columns]"
      ]
     },
     "execution_count": 15,
     "metadata": {},
     "output_type": "execute_result"
    }
   ],
   "source": [
    "df_test"
   ]
  },
  {
   "cell_type": "code",
   "execution_count": 16,
   "id": "3d1d7371",
   "metadata": {},
   "outputs": [
    {
     "name": "stdout",
     "output_type": "stream",
     "text": [
      "Forma del conjunto de datos Validacion: (1223820, 2), \n",
      "                      category  \\\n",
      "0              ENGINE_BEARINGS   \n",
      "1  ELECTRIC_DEMOLITION_HAMMERS   \n",
      "2                 FISHING_RODS   \n",
      "\n",
      "                                               title  \n",
      "0                           Metal Biela Dw10 Hdi 2.0  \n",
      "1  Repuestos Martillo Rotoprcutor Bosch Gshsce Po...  \n",
      "2  Pesca Caña Pejerrey Colony Brava 3m Fibra De V...  \n",
      "\n",
      "<class 'pandas.core.frame.DataFrame'>\n",
      "RangeIndex: 1223820 entries, 0 to 1223819\n",
      "Data columns (total 2 columns):\n",
      " #   Column    Non-Null Count    Dtype \n",
      "---  ------    --------------    ----- \n",
      " 0   category  1223820 non-null  object\n",
      " 1   title     1223820 non-null  object\n",
      "dtypes: object(2)\n",
      "memory usage: 18.7+ MB\n"
     ]
    }
   ],
   "source": [
    "# creando dos subdataset y dando información general: \n",
    "val_df = valid_df.loc[:, ['category', 'title']]\n",
    "print(f'Forma del conjunto de datos Validacion: {val_df.shape}, \\n{val_df.head(3)}\\n')\n",
    "val_df.info()"
   ]
  },
  {
   "cell_type": "code",
   "execution_count": 17,
   "id": "167b5aae",
   "metadata": {},
   "outputs": [
    {
     "data": {
      "text/html": [
       "<div>\n",
       "<style scoped>\n",
       "    .dataframe tbody tr th:only-of-type {\n",
       "        vertical-align: middle;\n",
       "    }\n",
       "\n",
       "    .dataframe tbody tr th {\n",
       "        vertical-align: top;\n",
       "    }\n",
       "\n",
       "    .dataframe thead th {\n",
       "        text-align: right;\n",
       "    }\n",
       "</style>\n",
       "<table border=\"1\" class=\"dataframe\">\n",
       "  <thead>\n",
       "    <tr style=\"text-align: right;\">\n",
       "      <th></th>\n",
       "      <th>category</th>\n",
       "      <th>title</th>\n",
       "    </tr>\n",
       "  </thead>\n",
       "  <tbody>\n",
       "    <tr>\n",
       "      <th>0</th>\n",
       "      <td>ENGINE_BEARINGS</td>\n",
       "      <td>Metal Biela Dw10 Hdi 2.0</td>\n",
       "    </tr>\n",
       "    <tr>\n",
       "      <th>1</th>\n",
       "      <td>ELECTRIC_DEMOLITION_HAMMERS</td>\n",
       "      <td>Repuestos Martillo Rotoprcutor Bosch Gshsce Po...</td>\n",
       "    </tr>\n",
       "    <tr>\n",
       "      <th>2</th>\n",
       "      <td>FISHING_RODS</td>\n",
       "      <td>Pesca Caña Pejerrey Colony Brava 3m Fibra De V...</td>\n",
       "    </tr>\n",
       "    <tr>\n",
       "      <th>3</th>\n",
       "      <td>PORCELAIN_TILES</td>\n",
       "      <td>Porcelanato Abitare Be 20x120 Cm. Ceramica Por...</td>\n",
       "    </tr>\n",
       "    <tr>\n",
       "      <th>4</th>\n",
       "      <td>HAIR_SHAMPOOS_AND_CONDITIONERS</td>\n",
       "      <td>Reconstruction Semi Di Lino Alfaparf Shampoo 1...</td>\n",
       "    </tr>\n",
       "  </tbody>\n",
       "</table>\n",
       "</div>"
      ],
      "text/plain": [
       "                         category  \\\n",
       "0                 ENGINE_BEARINGS   \n",
       "1     ELECTRIC_DEMOLITION_HAMMERS   \n",
       "2                    FISHING_RODS   \n",
       "3                 PORCELAIN_TILES   \n",
       "4  HAIR_SHAMPOOS_AND_CONDITIONERS   \n",
       "\n",
       "                                               title  \n",
       "0                           Metal Biela Dw10 Hdi 2.0  \n",
       "1  Repuestos Martillo Rotoprcutor Bosch Gshsce Po...  \n",
       "2  Pesca Caña Pejerrey Colony Brava 3m Fibra De V...  \n",
       "3  Porcelanato Abitare Be 20x120 Cm. Ceramica Por...  \n",
       "4  Reconstruction Semi Di Lino Alfaparf Shampoo 1...  "
      ]
     },
     "execution_count": 17,
     "metadata": {},
     "output_type": "execute_result"
    }
   ],
   "source": [
    "val_df.head()"
   ]
  },
  {
   "cell_type": "markdown",
   "id": "31b6f563",
   "metadata": {},
   "source": [
    "Definimos las clases que seran útiles para el procesamiento del conjunto de datos:"
   ]
  },
  {
   "cell_type": "code",
   "execution_count": 18,
   "id": "316dc969",
   "metadata": {},
   "outputs": [
    {
     "data": {
      "text/html": [
       "<div>\n",
       "<style scoped>\n",
       "    .dataframe tbody tr th:only-of-type {\n",
       "        vertical-align: middle;\n",
       "    }\n",
       "\n",
       "    .dataframe tbody tr th {\n",
       "        vertical-align: top;\n",
       "    }\n",
       "\n",
       "    .dataframe thead th {\n",
       "        text-align: right;\n",
       "    }\n",
       "</style>\n",
       "<table border=\"1\" class=\"dataframe\">\n",
       "  <thead>\n",
       "    <tr style=\"text-align: right;\">\n",
       "      <th></th>\n",
       "      <th>category</th>\n",
       "      <th>title</th>\n",
       "    </tr>\n",
       "  </thead>\n",
       "  <tbody>\n",
       "    <tr>\n",
       "      <th>0</th>\n",
       "      <td>DOLLHOUSES</td>\n",
       "      <td>Casita Muñecas Barbies Pintadas</td>\n",
       "    </tr>\n",
       "    <tr>\n",
       "      <th>1</th>\n",
       "      <td>TOILETRY_BAGS</td>\n",
       "      <td>Neceser Cromado Holográfico</td>\n",
       "    </tr>\n",
       "    <tr>\n",
       "      <th>2</th>\n",
       "      <td>CAR_SEAT_COVERS</td>\n",
       "      <td>Funda Asiento A Medida D20 Chevrolet</td>\n",
       "    </tr>\n",
       "  </tbody>\n",
       "</table>\n",
       "</div>"
      ],
      "text/plain": [
       "          category                                 title\n",
       "0       DOLLHOUSES       Casita Muñecas Barbies Pintadas\n",
       "1    TOILETRY_BAGS          Neceser Cromado Holográfico \n",
       "2  CAR_SEAT_COVERS  Funda Asiento A Medida D20 Chevrolet"
      ]
     },
     "execution_count": 18,
     "metadata": {},
     "output_type": "execute_result"
    }
   ],
   "source": [
    "data = pd.concat([df_train,val_df,df_test], ignore_index=True)\n",
    "data.head(3)"
   ]
  },
  {
   "cell_type": "code",
   "execution_count": 19,
   "id": "6d45dcff",
   "metadata": {},
   "outputs": [],
   "source": [
    "class RawDataProcessor:\n",
    "    def __init__(self, \n",
    "                 dataset, \n",
    "                 ignore_header=True, \n",
    "                 filters=None, \n",
    "                 vocab_size=50000):\n",
    "        if filters:\n",
    "            self.filters = filters\n",
    "        else:\n",
    "            self.filters = [\n",
    "                lambda s: s.lower(),\n",
    "                preprocessing.strip_tags,\n",
    "                preprocessing.strip_punctuation,\n",
    "                preprocessing.strip_multiple_whitespaces,\n",
    "                preprocessing.strip_numeric,\n",
    "                preprocessing.remove_stopwords,\n",
    "                preprocessing.strip_short,\n",
    "            ]\n",
    "        \n",
    "        # Create dictionary based on all the reviews (with corresponding preprocessing)\n",
    "        # https://radimrehurek.com/gensim/corpora/dictionary.html\n",
    "        self.dictionary = corpora.Dictionary(\n",
    "            dataset[\"title\"].map(self._preprocess_string).tolist()\n",
    "        )\n",
    "        # Filter the dictionary with extremos words\n",
    "        # https://tedboy.github.io/nlps/generated/generated/gensim.corpora.Dictionary.filter_extremes.html?highlight=filter_extrem\n",
    " #       self.dictionary.filter_extremes(no_below=2, no_above=1, keep_n=vocab_size)\n",
    "        \n",
    "        # Make the indices continuous after some words have been removed\n",
    "        # https://tedboy.github.io/nlps/generated/generated/gensim.corpora.Dictionary.compactify.html\n",
    "        self.dictionary.compactify()\n",
    "        \n",
    "        #### Cambio\n",
    "        self.dictionary.filter_extremes(no_below=2, no_above=1, keep_n=vocab_size)\n",
    "        self.dictionary.compactify()\n",
    "\n",
    "        self.dictionary.patch_with_special_tokens({\n",
    "            \"[PAD]\": 0,\n",
    "            \"[UNK]\": 1 \n",
    "        })\n",
    "        #### Cambio\n",
    "        \n",
    "        \n",
    "        \n",
    "        \n",
    "\n",
    "        self.idx_to_target = sorted(dataset[\"category\"].unique())\n",
    "        self.target_to_idx = {t: i for i, t in enumerate(self.idx_to_target)}\n",
    "\n",
    "\n",
    "    def _preprocess_string(self, string):\n",
    "        # https://radimrehurek.com/gensim/parsing/preprocessing.html#gensim.parsing.preprocessing.preprocess_string:~:text=gensim.parsing.preprocessing.preprocess_string\n",
    "        return preprocessing.preprocess_string(string, filters=self.filters)\n",
    "\n",
    "    def _sentence_to_indices(self, sentence):\n",
    "      # https://radimrehurek.com/gensim/corpora/dictionary.html#:~:text=doc2idx(document,via%20unknown_word_index.\n",
    "        return self.dictionary.doc2idx(sentence, unknown_word_index=1)\n",
    "    \n",
    "    def encode_data(self, data):\n",
    "        return self._sentence_to_indices(self._preprocess_string(data))\n",
    "    \n",
    "    def encode_target(self, target):\n",
    "        return self.target_to_idx[target]\n",
    "    \n",
    "    def __call__(self, item):\n",
    "        if isinstance(item[\"data\"], str):\n",
    "            data = self.encode_data(item[\"data\"])\n",
    "        else:\n",
    "            data = [self.encode_data(d) for d in item[\"data\"]]\n",
    "        \n",
    "        if isinstance(item[\"target\"], str):\n",
    "            target = self.encode_target(item[\"target\"])\n",
    "        else:\n",
    "            target = [self.encode_target(t) for t in item[\"target\"]]\n",
    "        \n",
    "        return {\n",
    "            \"data\": data,\n",
    "            \"target\": target\n",
    "        }"
   ]
  },
  {
   "cell_type": "code",
   "execution_count": 20,
   "id": "8718e21a",
   "metadata": {},
   "outputs": [],
   "source": [
    "class MelichanllegeDataset(Dataset):\n",
    "    def __init__(self, dataset, transform=None):\n",
    "        self.dataset = dataset\n",
    "        self.transform = transform\n",
    "    \n",
    "    def __len__(self):\n",
    "        return self.dataset.shape[0]\n",
    "\n",
    "    def __getitem__(self, item):\n",
    "        if torch.is_tensor(item):\n",
    "            item = item.to_list()\n",
    "        \n",
    "        item = {\n",
    "            \"data\": self.dataset.loc[item, \"title\"],\n",
    "            \"target\": self.dataset.loc[item, \"category\"]\n",
    "        }\n",
    "        \n",
    "        if self.transform:\n",
    "            item = self.transform(item)\n",
    "        \n",
    "        return item\n",
    "    \n",
    "    "
   ]
  },
  {
   "cell_type": "markdown",
   "id": "512b3db9",
   "metadata": {},
   "source": [
    "Pasamos a aplicar las clases definidas previamente para preprocesar ambos conjuntos:"
   ]
  },
  {
   "cell_type": "code",
   "execution_count": 21,
   "id": "4946fb47",
   "metadata": {},
   "outputs": [
    {
     "data": {
      "text/plain": [
       "<__main__.MelichanllegeDataset at 0x7f5c0eba0730>"
      ]
     },
     "execution_count": 21,
     "metadata": {},
     "output_type": "execute_result"
    }
   ],
   "source": [
    "preprocess_train = RawDataProcessor(df_train)\n",
    "train_ds = MelichanllegeDataset(df_train, transform=preprocess_train)\n",
    "train_ds"
   ]
  },
  {
   "cell_type": "code",
   "execution_count": 22,
   "id": "88a3c82b",
   "metadata": {},
   "outputs": [
    {
     "name": "stdout",
     "output_type": "stream",
     "text": [
      "Datasets loaded with 4895280 training elements and 63680 test elements\n",
      "Sample train element:\n",
      "{'data': [50001, 2, 50000, 3], 'target': 188}\n"
     ]
    }
   ],
   "source": [
    "preprocess_train = RawDataProcessor(df_train)\n",
    "train_ds = MelichanllegeDataset(df_train, transform=preprocess_train)\n",
    "\n",
    "preprocess_test = RawDataProcessor(df_test)\n",
    "test_ds = MelichanllegeDataset(df_test, transform=preprocess_test)\n",
    "\n",
    "preprocess_valid = RawDataProcessor(val_df)\n",
    "dev_ds = MelichanllegeDataset(val_df, transform=preprocess_test)\n",
    "\n",
    "\n",
    "print(f\"Datasets loaded with {len(train_ds)} training elements and {len(test_ds)} test elements\")\n",
    "print(f\"Sample train element:\\n{train_ds[0]}\")"
   ]
  },
  {
   "cell_type": "markdown",
   "id": "3167f44a",
   "metadata": {},
   "source": [
    "Definimos el modulo Padsequences, recordando que este se define para tomar un valor mínimo y opcionalmente un valor máximo, así como un valor de relleno (pad) y una lista de secuencias. Este nos retornara un tensor con padding sobre dichas secuencias."
   ]
  },
  {
   "cell_type": "code",
   "execution_count": 23,
   "id": "ca521169",
   "metadata": {},
   "outputs": [],
   "source": [
    "class PadSequences:\n",
    "    def __init__(self, pad_value=0, max_length=None, min_length=1):\n",
    "        assert max_length is None or min_length <= max_length\n",
    "        self.pad_value = pad_value\n",
    "        self.max_length = max_length\n",
    "        self.min_length = min_length\n",
    "\n",
    "    def __call__(self, items):\n",
    "        data, target = list(zip(*[(item[\"data\"], item[\"target\"]) for item in items]))\n",
    "        seq_lengths = [len(d) for d in data]\n",
    "\n",
    "        if self.max_length:\n",
    "            max_length = self.max_length\n",
    "            seq_lengths = [min(self.max_length, l) for l in seq_lengths]\n",
    "        else:\n",
    "            max_length = max(self.min_length, max(seq_lengths))\n",
    "\n",
    "        data = [d[:l] + [self.pad_value] * (max_length - l)\n",
    "                for d, l in zip(data, seq_lengths)]\n",
    "            \n",
    "        return {\n",
    "            \"data\": torch.LongTensor(data),\n",
    "            \"target\": torch.FloatTensor(target)\n",
    "        }"
   ]
  },
  {
   "cell_type": "markdown",
   "id": "537574ae",
   "metadata": {},
   "source": [
    "## DataLoaders\n",
    "Aplicamos el modulo anterior y especificamos nuestros DataLoaders (uno para entrenamiento y otro para evaluación)."
   ]
  },
  {
   "cell_type": "code",
   "execution_count": 24,
   "id": "96fda3aa",
   "metadata": {},
   "outputs": [],
   "source": [
    "pad_sequences = PadSequences()\n",
    "\n",
    "train_loader = DataLoader(train_ds, batch_size=128, shuffle=True,\n",
    "                          collate_fn=pad_sequences, drop_last=False, num_workers=0)\n",
    "\n",
    "dev_loader = DataLoader(dev_ds, batch_size=128, shuffle=True,\n",
    "                         collate_fn=pad_sequences, drop_last=False, num_workers=0)\n"
   ]
  },
  {
   "cell_type": "code",
   "execution_count": 25,
   "id": "0a728b8d",
   "metadata": {},
   "outputs": [],
   "source": [
    "test_loader = DataLoader(test_ds, batch_size=128, shuffle=False,\n",
    "                         collate_fn=pad_sequences, drop_last=False, num_workers=0)"
   ]
  },
  {
   "cell_type": "markdown",
   "id": "4f5fef48",
   "metadata": {},
   "source": [
    "## Parte 2: Esqueleto de la red MLP\n",
    "Definimos el modelo a entrenar."
   ]
  },
  {
   "cell_type": "code",
   "execution_count": 26,
   "id": "dd7791c6",
   "metadata": {},
   "outputs": [
    {
     "name": "stdout",
     "output_type": "stream",
     "text": [
      "GPU disponible\n"
     ]
    }
   ],
   "source": [
    "# Eligiendo dispositivo (se puede cambiar en notebook settings)\n",
    "is_cuda = torch.cuda.is_available()\n",
    "\n",
    "if is_cuda:\n",
    "    device = torch.device(\"cuda:0\")\n",
    "    print(\"GPU disponible\")\n",
    "else:\n",
    "    device = torch.device(\"cpu\")\n",
    "    print(\"GPU no disponible, usando CPU\")"
   ]
  },
  {
   "cell_type": "code",
   "execution_count": 27,
   "id": "5442b03e",
   "metadata": {},
   "outputs": [],
   "source": [
    "import bz2\n",
    "import os\n",
    "import sys "
   ]
  },
  {
   "cell_type": "code",
   "execution_count": 28,
   "id": "165fe72c",
   "metadata": {},
   "outputs": [],
   "source": [
    "import torch.nn.functional as F\n",
    "from sklearn.metrics import balanced_accuracy_score"
   ]
  },
  {
   "cell_type": "markdown",
   "id": "e6b8c882",
   "metadata": {},
   "source": [
    "## Experimento de MLflow\n",
    "\n",
    "### Primer caso MLP 1:"
   ]
  },
  {
   "cell_type": "code",
   "execution_count": 29,
   "id": "becd5e08",
   "metadata": {},
   "outputs": [],
   "source": [
    "class MLP(nn.Module):\n",
    "    \n",
    "    def __init__(self, \n",
    "                 pretrained_embeddings_path, \n",
    "                 dictionary,\n",
    "                 vector_size,\n",
    "                 freeze_embedings):\n",
    "        super().__init__()\n",
    "        \n",
    "        embeddings_matrix = torch.randn(len(dictionary), vector_size)\n",
    "        embeddings_matrix[0] = torch.zeros(vector_size)\n",
    "        with bz2.open(pretrained_embeddings_path, \"rt\") as fh:\n",
    "            for line in fh:\n",
    "                word, vector = line.strip().split(None, 1)\n",
    "                if word in dictionary.token2id:\n",
    "                    embeddings_matrix[dictionary.token2id[word]] =\\\n",
    "                        torch.FloatTensor([float(n) for n in vector.split()])\n",
    "        self.embeddings = nn.Embedding.from_pretrained(embeddings_matrix,\n",
    "                                                       freeze=freeze_embedings,\n",
    "                                                       padding_idx=0)\n",
    "        self.hidden_layer1 = nn.Linear(vector_size, 256)\n",
    "        self.hidden_layer2 = nn.Linear(256, 300)\n",
    "        self.hidden_layer3 = nn.Linear(300, 256)\n",
    "        self.output_layer = nn.Linear(256, 632)\n",
    "        self.vector_size = vector_size\n",
    "     \n",
    "    \n",
    "    def forward(self, x):\n",
    "        x = self.embeddings(x)\n",
    "        x = torch.mean(x, dim=1)\n",
    "        x = F.relu(x)       \n",
    "        x = self.hidden_layer1(x)  \n",
    "        x = F.relu(self.hidden_layer2(x)) \n",
    "        x = self.hidden_layer3(x)\n",
    "        x = F.relu(x)\n",
    "        x = self.output_layer(x)\n",
    "\n",
    "        return x\n",
    "    \n",
    "    "
   ]
  },
  {
   "cell_type": "markdown",
   "id": "7fc6e94c",
   "metadata": {},
   "source": [
    "Encapsularemos el algoritmo de entrenamiento dentro de una función parametrizable. La función debería devolver los resultados obtenidos."
   ]
  },
  {
   "cell_type": "code",
   "execution_count": 30,
   "id": "51e9239e",
   "metadata": {},
   "outputs": [
    {
     "data": {
      "application/vnd.jupyter.widget-view+json": {
       "model_id": "0a56043ce00f484aa597c22a5ea81bc5",
       "version_major": 2,
       "version_minor": 0
      },
      "text/plain": [
       "  0%|          | 0/38245 [00:00<?, ?it/s]"
      ]
     },
     "metadata": {},
     "output_type": "display_data"
    },
    {
     "name": "stdout",
     "output_type": "stream",
     "text": [
      "Epoca: 0\n",
      "\n",
      "Perdida-loss: 2.9069283271306543\n"
     ]
    },
    {
     "data": {
      "application/vnd.jupyter.widget-view+json": {
       "model_id": "93f2776abf6e48449f800ce432c8ef08",
       "version_major": 2,
       "version_minor": 0
      },
      "text/plain": [
       "  0%|          | 0/9562 [00:00<?, ?it/s]"
      ]
     },
     "metadata": {},
     "output_type": "display_data"
    },
    {
     "name": "stdout",
     "output_type": "stream",
     "text": [
      "Perdida-loss/validacion: 9.781678325734461\n",
      "val_avp: 0.0020350165994680435\n"
     ]
    },
    {
     "data": {
      "application/vnd.jupyter.widget-view+json": {
       "model_id": "5a9781ab416d4d3ab86ad90e78935705",
       "version_major": 2,
       "version_minor": 0
      },
      "text/plain": [
       "  0%|          | 0/38245 [00:00<?, ?it/s]"
      ]
     },
     "metadata": {},
     "output_type": "display_data"
    },
    {
     "name": "stdout",
     "output_type": "stream",
     "text": [
      "Epoca: 1\n",
      "\n",
      "Perdida-loss: 2.0181324370313525\n"
     ]
    },
    {
     "data": {
      "application/vnd.jupyter.widget-view+json": {
       "model_id": "f7fd5e3ca14343c9baae090b92d4b85c",
       "version_major": 2,
       "version_minor": 0
      },
      "text/plain": [
       "  0%|          | 0/9562 [00:00<?, ?it/s]"
      ]
     },
     "metadata": {},
     "output_type": "display_data"
    },
    {
     "name": "stdout",
     "output_type": "stream",
     "text": [
      "Perdida-loss/validacion: 10.189337384922688\n",
      "val_avp: 0.0024493035640493718\n"
     ]
    },
    {
     "data": {
      "application/vnd.jupyter.widget-view+json": {
       "model_id": "0bfa211bbb564328ac3936ca489a5a8b",
       "version_major": 2,
       "version_minor": 0
      },
      "text/plain": [
       "  0%|          | 0/38245 [00:00<?, ?it/s]"
      ]
     },
     "metadata": {},
     "output_type": "display_data"
    },
    {
     "name": "stdout",
     "output_type": "stream",
     "text": [
      "Epoca: 2\n",
      "\n",
      "Perdida-loss: 1.8417544991880606\n"
     ]
    },
    {
     "data": {
      "application/vnd.jupyter.widget-view+json": {
       "model_id": "f74425f4289f41a69927b21cf800641c",
       "version_major": 2,
       "version_minor": 0
      },
      "text/plain": [
       "  0%|          | 0/9562 [00:00<?, ?it/s]"
      ]
     },
     "metadata": {},
     "output_type": "display_data"
    },
    {
     "name": "stdout",
     "output_type": "stream",
     "text": [
      "Perdida-loss/validacion: 10.306747626420519\n",
      "val_avp: 0.0021648197401102545\n"
     ]
    },
    {
     "data": {
      "application/vnd.jupyter.widget-view+json": {
       "model_id": "b74eafd9a3cb4cae859da4195c5c8b28",
       "version_major": 2,
       "version_minor": 0
      },
      "text/plain": [
       "  0%|          | 0/38245 [00:00<?, ?it/s]"
      ]
     },
     "metadata": {},
     "output_type": "display_data"
    },
    {
     "name": "stdout",
     "output_type": "stream",
     "text": [
      "Epoca: 3\n",
      "\n",
      "Perdida-loss: 1.760427758447141\n"
     ]
    },
    {
     "data": {
      "application/vnd.jupyter.widget-view+json": {
       "model_id": "a2a8f2b5943d49f88249bf90a7124e3f",
       "version_major": 2,
       "version_minor": 0
      },
      "text/plain": [
       "  0%|          | 0/9562 [00:00<?, ?it/s]"
      ]
     },
     "metadata": {},
     "output_type": "display_data"
    },
    {
     "name": "stdout",
     "output_type": "stream",
     "text": [
      "Perdida-loss/validacion: 10.26819789192712\n",
      "val_avp: 0.0018721368701719366\n"
     ]
    },
    {
     "data": {
      "application/vnd.jupyter.widget-view+json": {
       "model_id": "631a2e303ee44b0fac172b10cd7164e2",
       "version_major": 2,
       "version_minor": 0
      },
      "text/plain": [
       "  0%|          | 0/38245 [00:00<?, ?it/s]"
      ]
     },
     "metadata": {},
     "output_type": "display_data"
    },
    {
     "name": "stdout",
     "output_type": "stream",
     "text": [
      "Epoca: 4\n",
      "\n",
      "Perdida-loss: 1.7134397579495588\n"
     ]
    },
    {
     "data": {
      "application/vnd.jupyter.widget-view+json": {
       "model_id": "958baa7578ae4ee6be2fd35c367fd383",
       "version_major": 2,
       "version_minor": 0
      },
      "text/plain": [
       "  0%|          | 0/9562 [00:00<?, ?it/s]"
      ]
     },
     "metadata": {},
     "output_type": "display_data"
    },
    {
     "name": "stdout",
     "output_type": "stream",
     "text": [
      "Perdida-loss/validacion: 10.352384521083039\n",
      "val_avp: 0.0019142289373750355\n"
     ]
    },
    {
     "data": {
      "application/vnd.jupyter.widget-view+json": {
       "model_id": "94cf66b00cc14be0b437db4c59cfed8c",
       "version_major": 2,
       "version_minor": 0
      },
      "text/plain": [
       "  0%|          | 0/38245 [00:00<?, ?it/s]"
      ]
     },
     "metadata": {},
     "output_type": "display_data"
    },
    {
     "name": "stdout",
     "output_type": "stream",
     "text": [
      "Epoca: 5\n",
      "\n",
      "Perdida-loss: 1.6822640083150655\n"
     ]
    },
    {
     "data": {
      "application/vnd.jupyter.widget-view+json": {
       "model_id": "5f7c18bd10ee4b52af884c19b0ca51fa",
       "version_major": 2,
       "version_minor": 0
      },
      "text/plain": [
       "  0%|          | 0/9562 [00:00<?, ?it/s]"
      ]
     },
     "metadata": {},
     "output_type": "display_data"
    },
    {
     "name": "stdout",
     "output_type": "stream",
     "text": [
      "Perdida-loss/validacion: 10.298405699140481\n",
      "val_avp: 0.00199676755452454\n"
     ]
    }
   ],
   "source": [
    "# Some default values\n",
    "EPOCHS = 6\n",
    "\n",
    "mlflow.set_experiment(\"Experimento_MLP_1\")\n",
    "\n",
    "with mlflow.start_run():\n",
    "    \n",
    "    mlflow.log_param(\"model_name\", \"MLP\")\n",
    "    mlflow.log_param(\"freeze_embedding\", True)\n",
    "    mlflow.log_params({\n",
    "        \"embedding_size\": 300,\n",
    "        \"hidden1_size\": 256,\n",
    "        \"hidden2_size\": 300,\n",
    "        \"hidden3_size\": 256,\n",
    "    })\n",
    "    model = MLP(\"./data/SBW-vectors-300-min5.txt.bz2\",preprocess_train.dictionary, 300, True)\n",
    "    model.to(device)\n",
    "    loss_function = nn.CrossEntropyLoss()\n",
    "    optimizer = optim.Adam(model.parameters(), lr=1e-3, weight_decay=1e-5)\n",
    "    \n",
    "    #pad_sequeces = PadSequences(max_length=max_sequence_len) # ojo\n",
    "    \n",
    "    history1 = {'val_loss': [],\n",
    "               'train_loss': [],\n",
    "               'total_accuracy': []\n",
    "              }    \n",
    "    \n",
    "    for epoch in range(EPOCHS):  \n",
    "        running_loss_train = []\n",
    "        \n",
    "        model.train()\n",
    "        \n",
    "        pbar = tqdm(train_loader)\n",
    "        \n",
    "        for i, data in enumerate(pbar, 1):\n",
    "                       \n",
    "            optimizer.zero_grad()\n",
    "            \n",
    "            inputs = data[\"data\"].to(device)\n",
    "            labels = data[\"target\"].squeeze().long()\n",
    "            labels = labels.to(device)       \n",
    "            \n",
    "            outputs = model(inputs)\n",
    "            loss = loss_function(outputs, labels)\n",
    "            loss.backward()\n",
    "            optimizer.step()\n",
    "            running_loss_train.append(loss.item())\n",
    "        \n",
    "        longitud_vec = len(running_loss_train)\n",
    "        sumatoria_vec = sum(running_loss_train)\n",
    "            \n",
    "        mlflow.log_metric(\"train_loss\", sumatoria_vec/longitud_vec, epoch)\n",
    "        history1['train_loss'].append((sumatoria_vec/longitud_vec, epoch))\n",
    "        \n",
    "        # Controlamos las metricas dentro de las epocas\n",
    "        print(f'Epoca: {epoch}')\n",
    "        print(f'\\nPerdida-loss: {sumatoria_vec/longitud_vec}')\n",
    "        \n",
    "        #listas a rellenar con los valores obtenidos en las iteraciones\n",
    "        running_loss_dev = []\n",
    "        targets = []\n",
    "        predictions = []\n",
    "        \n",
    "        # Modelo\n",
    "        \n",
    "        model.eval()\n",
    "\n",
    "        \n",
    "        for i, data in enumerate(tqdm(dev_loader)):\n",
    "            inputs_v = data[\"data\"].to(device)\n",
    "            labels_v = data[\"target\"].squeeze().long()\n",
    "            labels_v = labels_v.to(device)\n",
    "            \n",
    "            output = model(inputs_v)\n",
    "            running_loss_dev.append(loss_function(output, labels_v).item())\n",
    "            \n",
    "            _, predicted = torch.max(output.data, 1)\n",
    "            \n",
    "            targets.extend(labels_v.cpu().numpy())\n",
    "            predictions.extend(predicted.cpu().numpy())\n",
    "        \n",
    "        \n",
    "        # Controlamos ahora las metricas para el conjunto de validacion    \n",
    "        mlflow.log_metric(\"val_loss\", sum(running_loss_dev) / len(running_loss_dev), epoch)\n",
    "        mlflow.log_metric(\"val_avp\", balanced_accuracy_score(targets, predictions), epoch)\n",
    "        \n",
    "        \n",
    "        history1['val_loss'].append((sum(running_loss_dev) / len(running_loss_dev), epoch))\n",
    "        history1['total_accuracy'].append((balanced_accuracy_score(targets, predictions), epoch))\n",
    "       \n",
    "        print(f'Perdida-loss/validacion: {sum(running_loss_dev)/len(running_loss_dev)}')\n",
    "        print(f'val_avp: {balanced_accuracy_score(targets, predictions)}')\n",
    "\n",
    "                "
   ]
  },
  {
   "cell_type": "code",
   "execution_count": 31,
   "id": "9f0079c8",
   "metadata": {},
   "outputs": [
    {
     "name": "stdout",
     "output_type": "stream",
     "text": [
      "MLP(\n",
      "  (embeddings): Embedding(50002, 300, padding_idx=0)\n",
      "  (hidden_layer1): Linear(in_features=300, out_features=256, bias=True)\n",
      "  (hidden_layer2): Linear(in_features=256, out_features=300, bias=True)\n",
      "  (hidden_layer3): Linear(in_features=300, out_features=256, bias=True)\n",
      "  (output_layer): Linear(in_features=256, out_features=632, bias=True)\n",
      ")\n"
     ]
    }
   ],
   "source": [
    "print(model)\n"
   ]
  },
  {
   "cell_type": "code",
   "execution_count": 32,
   "id": "5e4cd773",
   "metadata": {},
   "outputs": [
    {
     "data": {
      "text/plain": [
       "{'val_loss': [(9.781678325734461, 0),\n",
       "  (10.189337384922688, 1),\n",
       "  (10.306747626420519, 2),\n",
       "  (10.26819789192712, 3),\n",
       "  (10.352384521083039, 4),\n",
       "  (10.298405699140481, 5)],\n",
       " 'train_loss': [(2.9069283271306543, 0),\n",
       "  (2.0181324370313525, 1),\n",
       "  (1.8417544991880606, 2),\n",
       "  (1.760427758447141, 3),\n",
       "  (1.7134397579495588, 4),\n",
       "  (1.6822640083150655, 5)],\n",
       " 'total_accuracy': [(0.0020350165994680435, 0),\n",
       "  (0.0024493035640493718, 1),\n",
       "  (0.0021648197401102545, 2),\n",
       "  (0.0018721368701719366, 3),\n",
       "  (0.0019142289373750355, 4),\n",
       "  (0.00199676755452454, 5)]}"
      ]
     },
     "execution_count": 32,
     "metadata": {},
     "output_type": "execute_result"
    }
   ],
   "source": [
    "history1"
   ]
  },
  {
   "cell_type": "markdown",
   "id": "fbd90ac6",
   "metadata": {},
   "source": [
    "### Segundo caso MLP2:"
   ]
  },
  {
   "cell_type": "code",
   "execution_count": 33,
   "id": "e3f49129",
   "metadata": {},
   "outputs": [],
   "source": [
    "class MLP2(nn.Module):\n",
    "    \n",
    "    def __init__(self, \n",
    "                 pretrained_embeddings_path, \n",
    "                 dictionary,\n",
    "                 vector_size,\n",
    "                 freeze_embedings):\n",
    "        super().__init__()\n",
    "        \n",
    "        embeddings_matrix = torch.randn(len(dictionary), vector_size)\n",
    "        embeddings_matrix[0] = torch.zeros(vector_size)\n",
    "        with bz2.open(pretrained_embeddings_path, \"rt\") as fh:\n",
    "            for line in fh:\n",
    "                word, vector = line.strip().split(None, 1)\n",
    "                if word in dictionary.token2id:\n",
    "                    embeddings_matrix[dictionary.token2id[word]] =\\\n",
    "                        torch.FloatTensor([float(n) for n in vector.split()])\n",
    "        self.embeddings = nn.Embedding.from_pretrained(embeddings_matrix,\n",
    "                                                       freeze=freeze_embedings,\n",
    "                                                       padding_idx=0)\n",
    "        self.hidden_layer1 = nn.Linear(vector_size, 600)\n",
    "        self.hidden_layer2 = nn.Linear(600, 450)\n",
    "        self.hidden_layer3 = nn.Linear(450, 300)\n",
    "        self.hidden_layer4 = nn.Linear(300, 500)\n",
    "        self.output_layer = nn.Linear(500, 632)\n",
    "        self.vector_size = vector_size\n",
    "     \n",
    "    \n",
    "    def forward(self, x):\n",
    "        x = self.embeddings(x)\n",
    "        x = torch.mean(x, dim=1)\n",
    "        x = F.gelu(x) \n",
    "        x = self.hidden_layer1(x) \n",
    "        x = F.gelu(self.hidden_layer2(x))  \n",
    "        x = self.hidden_layer3(x)\n",
    "        x = F.relu(x)\n",
    "        x = F.relu(self.hidden_layer4(x)) \n",
    "        x = self.output_layer(x)\n",
    "\n",
    "        return x\n",
    "    "
   ]
  },
  {
   "cell_type": "code",
   "execution_count": 34,
   "id": "05a717ff",
   "metadata": {},
   "outputs": [
    {
     "data": {
      "application/vnd.jupyter.widget-view+json": {
       "model_id": "394d1aec61754d309d90cee083db951f",
       "version_major": 2,
       "version_minor": 0
      },
      "text/plain": [
       "  0%|          | 0/38245 [00:00<?, ?it/s]"
      ]
     },
     "metadata": {},
     "output_type": "display_data"
    },
    {
     "name": "stdout",
     "output_type": "stream",
     "text": [
      "Epoca: 0\n",
      "\n",
      "Perdida-loss: 2.492640104725838\n"
     ]
    },
    {
     "data": {
      "application/vnd.jupyter.widget-view+json": {
       "model_id": "d9530553df314a64967e96a5619a2d5a",
       "version_major": 2,
       "version_minor": 0
      },
      "text/plain": [
       "  0%|          | 0/9562 [00:00<?, ?it/s]"
      ]
     },
     "metadata": {},
     "output_type": "display_data"
    },
    {
     "name": "stdout",
     "output_type": "stream",
     "text": [
      "Perdida-loss/validacion: 10.33177529486421\n",
      "val_avp: 0.0022108546354928627\n"
     ]
    },
    {
     "data": {
      "application/vnd.jupyter.widget-view+json": {
       "model_id": "51aeffed85244548a6e46d40e5f8bb08",
       "version_major": 2,
       "version_minor": 0
      },
      "text/plain": [
       "  0%|          | 0/38245 [00:00<?, ?it/s]"
      ]
     },
     "metadata": {},
     "output_type": "display_data"
    },
    {
     "name": "stdout",
     "output_type": "stream",
     "text": [
      "Epoca: 1\n",
      "\n",
      "Perdida-loss: 1.7021600783237492\n"
     ]
    },
    {
     "data": {
      "application/vnd.jupyter.widget-view+json": {
       "model_id": "5bc6b730c45741a5bbd9a9bbe498e085",
       "version_major": 2,
       "version_minor": 0
      },
      "text/plain": [
       "  0%|          | 0/9562 [00:00<?, ?it/s]"
      ]
     },
     "metadata": {},
     "output_type": "display_data"
    },
    {
     "name": "stdout",
     "output_type": "stream",
     "text": [
      "Perdida-loss/validacion: 10.249868359931765\n",
      "val_avp: 0.002104147063025205\n"
     ]
    },
    {
     "data": {
      "application/vnd.jupyter.widget-view+json": {
       "model_id": "a4dc6bd14b4849f88b00866b4d18d6b2",
       "version_major": 2,
       "version_minor": 0
      },
      "text/plain": [
       "  0%|          | 0/38245 [00:00<?, ?it/s]"
      ]
     },
     "metadata": {},
     "output_type": "display_data"
    },
    {
     "name": "stdout",
     "output_type": "stream",
     "text": [
      "Epoca: 2\n",
      "\n",
      "Perdida-loss: 1.5663068934365307\n"
     ]
    },
    {
     "data": {
      "application/vnd.jupyter.widget-view+json": {
       "model_id": "0d13602a38f34228a3aa0c3a30c72809",
       "version_major": 2,
       "version_minor": 0
      },
      "text/plain": [
       "  0%|          | 0/9562 [00:00<?, ?it/s]"
      ]
     },
     "metadata": {},
     "output_type": "display_data"
    },
    {
     "name": "stdout",
     "output_type": "stream",
     "text": [
      "Perdida-loss/validacion: 10.425987332317526\n",
      "val_avp: 0.0015398429215359069\n"
     ]
    },
    {
     "data": {
      "application/vnd.jupyter.widget-view+json": {
       "model_id": "8f5f169b79604efeb79b2f6e3ae78906",
       "version_major": 2,
       "version_minor": 0
      },
      "text/plain": [
       "  0%|          | 0/38245 [00:00<?, ?it/s]"
      ]
     },
     "metadata": {},
     "output_type": "display_data"
    },
    {
     "name": "stdout",
     "output_type": "stream",
     "text": [
      "Epoca: 3\n",
      "\n",
      "Perdida-loss: 1.4952440010814017\n"
     ]
    },
    {
     "data": {
      "application/vnd.jupyter.widget-view+json": {
       "model_id": "2dd3ad80af3a472fb436afbc0712279f",
       "version_major": 2,
       "version_minor": 0
      },
      "text/plain": [
       "  0%|          | 0/9562 [00:00<?, ?it/s]"
      ]
     },
     "metadata": {},
     "output_type": "display_data"
    },
    {
     "name": "stdout",
     "output_type": "stream",
     "text": [
      "Perdida-loss/validacion: 10.693938938799924\n",
      "val_avp: 0.0016285295371558425\n"
     ]
    },
    {
     "data": {
      "application/vnd.jupyter.widget-view+json": {
       "model_id": "f1f6bc0ca006433b9db155a1620ec94b",
       "version_major": 2,
       "version_minor": 0
      },
      "text/plain": [
       "  0%|          | 0/38245 [00:00<?, ?it/s]"
      ]
     },
     "metadata": {},
     "output_type": "display_data"
    },
    {
     "name": "stdout",
     "output_type": "stream",
     "text": [
      "Epoca: 4\n",
      "\n",
      "Perdida-loss: 1.4487769038556588\n"
     ]
    },
    {
     "data": {
      "application/vnd.jupyter.widget-view+json": {
       "model_id": "6b08167423ef45f09a36ebd8e1e5256a",
       "version_major": 2,
       "version_minor": 0
      },
      "text/plain": [
       "  0%|          | 0/9562 [00:00<?, ?it/s]"
      ]
     },
     "metadata": {},
     "output_type": "display_data"
    },
    {
     "name": "stdout",
     "output_type": "stream",
     "text": [
      "Perdida-loss/validacion: 10.78709707936341\n",
      "val_avp: 0.0016289091778191734\n"
     ]
    },
    {
     "data": {
      "application/vnd.jupyter.widget-view+json": {
       "model_id": "5beb5296ec2b40089f84b14c40d62d91",
       "version_major": 2,
       "version_minor": 0
      },
      "text/plain": [
       "  0%|          | 0/38245 [00:00<?, ?it/s]"
      ]
     },
     "metadata": {},
     "output_type": "display_data"
    },
    {
     "name": "stdout",
     "output_type": "stream",
     "text": [
      "Epoca: 5\n",
      "\n",
      "Perdida-loss: 1.412895475459077\n"
     ]
    },
    {
     "data": {
      "application/vnd.jupyter.widget-view+json": {
       "model_id": "bd74eed6a28248f6813010e155b3fdac",
       "version_major": 2,
       "version_minor": 0
      },
      "text/plain": [
       "  0%|          | 0/9562 [00:00<?, ?it/s]"
      ]
     },
     "metadata": {},
     "output_type": "display_data"
    },
    {
     "name": "stdout",
     "output_type": "stream",
     "text": [
      "Perdida-loss/validacion: 10.571424018087509\n",
      "val_avp: 0.0019504728248230967\n"
     ]
    }
   ],
   "source": [
    "# Some default values\n",
    "EPOCHS = 6\n",
    "\n",
    "mlflow.set_experiment(\"Experimento_2_MLP2\")\n",
    "\n",
    "with mlflow.start_run():\n",
    "    \n",
    "    mlflow.log_param(\"model_name\", \"MLP2\")\n",
    "    mlflow.log_param(\"freeze_embedding\", True)\n",
    "    mlflow.log_params({\n",
    "        \"embedding_size\": 300,\n",
    "        \"hidden1_size\": 600,\n",
    "        \"hidden2_size\": 450,\n",
    "        \"hidden3_size\": 300,\n",
    "        \"hidden4_size\": 500,\n",
    "        \n",
    "    })\n",
    "    model_c2 = MLP2(\"./data/SBW-vectors-300-min5.txt.bz2\",preprocess_train.dictionary, 300, True)\n",
    "    model_c2.to(device)\n",
    "    loss_function = nn.CrossEntropyLoss()\n",
    "    optimizer = optim.Adam(model_c2.parameters(), lr=1e-3, weight_decay=1e-5)\n",
    "    \n",
    "    #pad_sequeces = PadSequences(max_length=max_sequence_len) # ojo\n",
    "    history = {'val_loss': [],\n",
    "               'train_loss': [],\n",
    "               'total_accuracy': []\n",
    "              }\n",
    "    \n",
    "    for epoch in range(EPOCHS):  \n",
    "        \n",
    "        model_c2.train()\n",
    "        running_loss_train = []\n",
    "        pbar = tqdm(train_loader)\n",
    "        \n",
    "        for i, data in enumerate(pbar, 1):\n",
    "                       \n",
    "            optimizer.zero_grad()\n",
    "            \n",
    "            inputs = data[\"data\"].to(device)\n",
    "            labels = data[\"target\"].squeeze().long()\n",
    "            labels = labels.to(device)       \n",
    "            \n",
    "            outputs = model_c2(inputs)\n",
    "            loss = loss_function(outputs, labels)\n",
    "            loss.backward()\n",
    "            optimizer.step()\n",
    "            running_loss_train.append(loss.item())\n",
    "        \n",
    "        \n",
    "        longitud_vec = len(running_loss_train)\n",
    "        sumatoria_vec = sum(running_loss_train)  \n",
    "        \n",
    "        mlflow.log_metric(\"train_loss\", sumatoria_vec/longitud_vec, epoch)\n",
    "        history['train_loss'].append((sumatoria_vec/longitud_vec, epoch))\n",
    "\n",
    "        \n",
    "        # Controlamos las metricas dentro de las epocas\n",
    "        print(f'Epoca: {epoch}')\n",
    "        print(f'\\nPerdida-loss: {sumatoria_vec/longitud_vec}')\n",
    "\n",
    "        model_c2.eval()            \n",
    "\n",
    "        \n",
    "        #listas a rellenar con los valores obtenidos en las iteraciones\n",
    "        running_loss_dev = []\n",
    "        targets = []\n",
    "        predictions = []\n",
    "        \n",
    "        for i, data in enumerate(tqdm(dev_loader)):\n",
    "            inputs_v = data[\"data\"].to(device)\n",
    "            labels_v = data[\"target\"].squeeze().long()\n",
    "            labels_v = labels_v.to(device)\n",
    "            \n",
    "            output = model_c2(inputs_v)\n",
    "            running_loss_dev.append(loss_function(output, labels_v).item())\n",
    "            \n",
    "            _, predicted = torch.max(output.data, 1)\n",
    "            \n",
    "            targets.extend(labels_v.cpu().numpy())\n",
    "            predictions.extend(predicted.cpu().numpy())\n",
    "            \n",
    "        \n",
    "        # Controlamos ahora las metricas para el conjunto de validacion    \n",
    "        mlflow.log_metric(\"val_loss\", sum(running_loss_dev) / len(running_loss_dev), epoch)\n",
    "        mlflow.log_metric(\"val_avp\", balanced_accuracy_score(targets, predictions), epoch)\n",
    "        \n",
    "        \n",
    "        history['val_loss'].append((sum(running_loss_dev) / len(running_loss_dev), epoch))\n",
    "        history['total_accuracy'].append((balanced_accuracy_score(targets, predictions), epoch))\n",
    "       \n",
    "        print(f'Perdida-loss/validacion: {sum(running_loss_dev)/len(running_loss_dev)}')\n",
    "        print(f'val_avp: {balanced_accuracy_score(targets, predictions)}')\n",
    "\n",
    "        "
   ]
  },
  {
   "cell_type": "code",
   "execution_count": 35,
   "id": "b60b493d",
   "metadata": {},
   "outputs": [
    {
     "name": "stdout",
     "output_type": "stream",
     "text": [
      "MLP2(\n",
      "  (embeddings): Embedding(50002, 300, padding_idx=0)\n",
      "  (hidden_layer1): Linear(in_features=300, out_features=600, bias=True)\n",
      "  (hidden_layer2): Linear(in_features=600, out_features=450, bias=True)\n",
      "  (hidden_layer3): Linear(in_features=450, out_features=300, bias=True)\n",
      "  (hidden_layer4): Linear(in_features=300, out_features=500, bias=True)\n",
      "  (output_layer): Linear(in_features=500, out_features=632, bias=True)\n",
      ")\n"
     ]
    }
   ],
   "source": [
    "print(model_c2)"
   ]
  },
  {
   "cell_type": "code",
   "execution_count": 36,
   "id": "06437a1a",
   "metadata": {},
   "outputs": [
    {
     "data": {
      "text/plain": [
       "{'val_loss': [(10.33177529486421, 0),\n",
       "  (10.249868359931765, 1),\n",
       "  (10.425987332317526, 2),\n",
       "  (10.693938938799924, 3),\n",
       "  (10.78709707936341, 4),\n",
       "  (10.571424018087509, 5)],\n",
       " 'train_loss': [(2.492640104725838, 0),\n",
       "  (1.7021600783237492, 1),\n",
       "  (1.5663068934365307, 2),\n",
       "  (1.4952440010814017, 3),\n",
       "  (1.4487769038556588, 4),\n",
       "  (1.412895475459077, 5)],\n",
       " 'total_accuracy': [(0.0022108546354928627, 0),\n",
       "  (0.002104147063025205, 1),\n",
       "  (0.0015398429215359069, 2),\n",
       "  (0.0016285295371558425, 3),\n",
       "  (0.0016289091778191734, 4),\n",
       "  (0.0019504728248230967, 5)]}"
      ]
     },
     "execution_count": 36,
     "metadata": {},
     "output_type": "execute_result"
    }
   ],
   "source": [
    "history"
   ]
  },
  {
   "cell_type": "code",
   "execution_count": 37,
   "id": "ad07cb78",
   "metadata": {},
   "outputs": [
    {
     "data": {
      "text/html": [
       "<div>\n",
       "<style scoped>\n",
       "    .dataframe tbody tr th:only-of-type {\n",
       "        vertical-align: middle;\n",
       "    }\n",
       "\n",
       "    .dataframe tbody tr th {\n",
       "        vertical-align: top;\n",
       "    }\n",
       "\n",
       "    .dataframe thead th {\n",
       "        text-align: right;\n",
       "    }\n",
       "</style>\n",
       "<table border=\"1\" class=\"dataframe\">\n",
       "  <thead>\n",
       "    <tr style=\"text-align: right;\">\n",
       "      <th></th>\n",
       "      <th>run_id</th>\n",
       "      <th>experiment_id</th>\n",
       "      <th>status</th>\n",
       "      <th>artifact_uri</th>\n",
       "      <th>start_time</th>\n",
       "      <th>end_time</th>\n",
       "      <th>metrics.train_loss</th>\n",
       "      <th>metrics.val_loss</th>\n",
       "      <th>metrics.val_avp</th>\n",
       "      <th>params.freeze_embedding</th>\n",
       "      <th>params.embedding_size</th>\n",
       "      <th>params.hidden3_size</th>\n",
       "      <th>params.hidden2_size</th>\n",
       "      <th>params.model_name</th>\n",
       "      <th>params.hidden4_size</th>\n",
       "      <th>params.hidden1_size</th>\n",
       "      <th>tags.mlflow.runName</th>\n",
       "      <th>tags.mlflow.source.type</th>\n",
       "      <th>tags.mlflow.source.name</th>\n",
       "      <th>tags.mlflow.user</th>\n",
       "    </tr>\n",
       "  </thead>\n",
       "  <tbody>\n",
       "    <tr>\n",
       "      <th>0</th>\n",
       "      <td>91d31f260dbf440593e48d8fd6109d60</td>\n",
       "      <td>5</td>\n",
       "      <td>FINISHED</td>\n",
       "      <td>file:///users/dfonnegra/mlruns/5/91d31f260dbf4...</td>\n",
       "      <td>2022-11-02 11:17:15.217000+00:00</td>\n",
       "      <td>2022-11-02 12:16:40.525000+00:00</td>\n",
       "      <td>1.412895</td>\n",
       "      <td>10.571424</td>\n",
       "      <td>0.00195</td>\n",
       "      <td>True</td>\n",
       "      <td>300</td>\n",
       "      <td>300</td>\n",
       "      <td>450</td>\n",
       "      <td>MLP2</td>\n",
       "      <td>500</td>\n",
       "      <td>600</td>\n",
       "      <td>skittish-skink-437</td>\n",
       "      <td>LOCAL</td>\n",
       "      <td>/users/dfonnegra/miniconda3/envs/deeplearning/...</td>\n",
       "      <td>dfonnegra</td>\n",
       "    </tr>\n",
       "  </tbody>\n",
       "</table>\n",
       "</div>"
      ],
      "text/plain": [
       "                             run_id experiment_id    status  \\\n",
       "0  91d31f260dbf440593e48d8fd6109d60             5  FINISHED   \n",
       "\n",
       "                                        artifact_uri  \\\n",
       "0  file:///users/dfonnegra/mlruns/5/91d31f260dbf4...   \n",
       "\n",
       "                        start_time                         end_time  \\\n",
       "0 2022-11-02 11:17:15.217000+00:00 2022-11-02 12:16:40.525000+00:00   \n",
       "\n",
       "   metrics.train_loss  metrics.val_loss  metrics.val_avp  \\\n",
       "0            1.412895         10.571424          0.00195   \n",
       "\n",
       "  params.freeze_embedding params.embedding_size params.hidden3_size  \\\n",
       "0                    True                   300                 300   \n",
       "\n",
       "  params.hidden2_size params.model_name params.hidden4_size  \\\n",
       "0                 450              MLP2                 500   \n",
       "\n",
       "  params.hidden1_size tags.mlflow.runName tags.mlflow.source.type  \\\n",
       "0                 600  skittish-skink-437                   LOCAL   \n",
       "\n",
       "                             tags.mlflow.source.name tags.mlflow.user  \n",
       "0  /users/dfonnegra/miniconda3/envs/deeplearning/...        dfonnegra  "
      ]
     },
     "execution_count": 37,
     "metadata": {},
     "output_type": "execute_result"
    }
   ],
   "source": [
    "mlflow.search_runs()\n",
    "runs = mlflow.search_runs()\n",
    "runs[runs.status == \"FINISHED\"]"
   ]
  },
  {
   "cell_type": "markdown",
   "id": "9f659632",
   "metadata": {},
   "source": [
    "# Resultados de las métricas"
   ]
  },
  {
   "cell_type": "markdown",
   "id": "8298d3c9",
   "metadata": {},
   "source": [
    "### Gráficos para  MLP2"
   ]
  },
  {
   "cell_type": "code",
   "execution_count": 87,
   "id": "2e7a6199",
   "metadata": {},
   "outputs": [],
   "source": [
    "# For plotting\n",
    "import matplotlib.pyplot as plt\n",
    "import seaborn as sns\n",
    "sns.set_theme(style=\"darkgrid\")\n",
    "sns.set_context(\"notebook\", font_scale=1.25)\n"
   ]
  },
  {
   "cell_type": "code",
   "execution_count": 82,
   "id": "f3ae5dbe",
   "metadata": {},
   "outputs": [],
   "source": [
    "data = []\n",
    "for epoch, (train_loss, val_loss) in enumerate(zip(\n",
    "        history1['train_loss'], history['val_loss'])):\n",
    "#     print((epoch, 'Entrenamiento', train_loss[0]))\n",
    "#     print((epoch, 'Validación', val_loss[0]))\n",
    "    data.append((epoch, 'Entrenamiento', train_loss[0]))\n",
    "    data.append((epoch, 'Validación', val_loss[0]))\n",
    "data = pd.DataFrame(data=data, columns=['Epoch', 'Conjunto', 'Loss'])\n"
   ]
  },
  {
   "cell_type": "code",
   "execution_count": 89,
   "id": "41bec74c",
   "metadata": {},
   "outputs": [
    {
     "data": {
      "image/png": "[encoded data removed]",
      "text/plain": [
       "<Figure size 1500x500 with 2 Axes>"
      ]
     },
     "metadata": {},
     "output_type": "display_data"
    }
   ],
   "source": [
    "f, ax = plt.subplots(1,2, figsize=(15,5))\n",
    "\n",
    "data.loc[data.Conjunto=='Entrenamiento', ['Epoch', 'Loss']].plot(x='Epoch', y='Loss', ax=ax[0],\n",
    "                                     kind='line',marker='o',title='Epoca vs Loss \\nEntrenamiento')\n",
    "data.loc[data.Conjunto=='Validación', ['Epoch', 'Loss']].plot(x='Epoch', y='Loss', ax=ax[1],\n",
    "                                                        kind='line',marker='o',title='Epoca vs Loss \\nValidación')\n",
    "plt.show()"
   ]
  },
  {
   "cell_type": "code",
   "execution_count": 102,
   "id": "2419c284",
   "metadata": {},
   "outputs": [
    {
     "data": {
      "image/png": "[encoded data removed]",
      "text/plain": [
       "<Figure size 640x480 with 1 Axes>"
      ]
     },
     "metadata": {},
     "output_type": "display_data"
    }
   ],
   "source": [
    "data = []\n",
    "for total_accuracy,epoch in history['total_accuracy']:\n",
    "    data.append((epoch,'total_accuracy',total_accuracy))\n",
    "data = pd.DataFrame(data=data, columns=['Epoch', 'Conjunto', 'total_accuracy'])\n",
    "sns.pointplot(\n",
    "    data=data, x='Epoch', y='total_accuracy', hue='Conjunto', palette='husl')\n",
    "plt.show()"
   ]
  },
  {
   "cell_type": "markdown",
   "id": "608b8736",
   "metadata": {},
   "source": [
    "### Gráficos para  MLP2"
   ]
  },
  {
   "cell_type": "code",
   "execution_count": 110,
   "id": "e2fbc96e",
   "metadata": {},
   "outputs": [
    {
     "data": {
      "image/png": "[encoded data removed]",
      "text/plain": [
       "<Figure size 1500x500 with 2 Axes>"
      ]
     },
     "metadata": {},
     "output_type": "display_data"
    }
   ],
   "source": [
    "data2 = []\n",
    "for epoch, (train_loss, val_loss) in enumerate(zip(\n",
    "        history1['train_loss'], history1['val_loss'])):\n",
    "#     print((epoch, 'Entrenamiento', train_loss[0]))\n",
    "#     print((epoch, 'Validación', val_loss[0]))\n",
    "    data2.append((epoch, 'Entrenamiento', train_loss[0]))\n",
    "    data2.append((epoch, 'Validación', val_loss[0]))\n",
    "data2 = pd.DataFrame(data=data2, columns=['Epoch', 'Conjunto', 'Loss'])\n",
    "\n",
    "f, ax = plt.subplots(1,2, figsize=(15,5))\n",
    "data2.loc[data2.Conjunto=='Entrenamiento', ['Epoch', 'Loss']].plot(x='Epoch', y='Loss', ax=ax[0],\n",
    "                                    color='r',kind='line',marker='o',title='Epoca vs Loss \\nEntrenamiento')\n",
    "data2.loc[data2.Conjunto=='Validación', ['Epoch', 'Loss']].plot(x='Epoch', y='Loss', ax=ax[1],\n",
    "                                    color='r',kind='line',marker='o',title='Epoca vs Loss \\nValidación')\n",
    "plt.show()"
   ]
  },
  {
   "cell_type": "code",
   "execution_count": 109,
   "id": "1c0f6d70",
   "metadata": {},
   "outputs": [
    {
     "data": {
      "image/png": "[encoded data removed]",
      "text/plain": [
       "<Figure size 640x480 with 1 Axes>"
      ]
     },
     "metadata": {},
     "output_type": "display_data"
    }
   ],
   "source": [
    "data2 = []\n",
    "for total_accuracy,epoch in history1['total_accuracy']:\n",
    "    data2.append((epoch,'total_accuracy',total_accuracy))\n",
    "data2 = pd.DataFrame(data=data2, columns=['Epoch', 'Conjunto', 'total_accuracy'])\n",
    "seaborn.pointplot(\n",
    "    data=data2, x='Epoch', y='total_accuracy', hue='Conjunto', palette='Spectral'\n",
    ")\n",
    "plt.show()"
   ]
  }
 ],
 "metadata": {
  "kernelspec": {
   "display_name": "Python 3 (ipykernel)",
   "language": "python",
   "name": "python3"
  },
  "language_info": {
   "codemirror_mode": {
    "name": "ipython",
    "version": 3
   },
   "file_extension": ".py",
   "mimetype": "text/x-python",
   "name": "python",
   "nbconvert_exporter": "python",
   "pygments_lexer": "ipython3",
   "version": "3.9.5"
  }
 },
 "nbformat": 4,
 "nbformat_minor": 5
}
