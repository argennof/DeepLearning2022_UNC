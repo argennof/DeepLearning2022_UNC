{
 "cells": [
  {
   "cell_type": "markdown",
   "id": "096dcc4c",
   "metadata": {},
   "source": [
    "# Aprendizaje Automatico - Diplodatos 2022\n",
    "Trabajo Práctico MLP "
   ]
  },
  {
   "cell_type": "code",
   "execution_count": 1,
   "id": "c26501b8",
   "metadata": {},
   "outputs": [
    {
     "name": "stdout",
     "output_type": "stream",
     "text": [
      "Integrantes: \n",
      " \n",
      "Maria Virginia Romero Messein\n",
      "Diana Carolina Fonnegra Mora\n"
     ]
    }
   ],
   "source": [
    "integrantes = [\"Maria Virginia Romero Messein\", \"Diana Carolina Fonnegra Mora\"]\n",
    "print('Integrantes: \\n ',*integrantes, sep=\"\\n\")"
   ]
  },
  {
   "cell_type": "markdown",
   "id": "ee85e5a6",
   "metadata": {},
   "source": [
    "# Notebook 2 \n",
    "En este práctico trabajaremos en el problema de clasificación de texto del MeLi Challenge 2019\n",
    "\n",
    "El datasets tiene información acerca de títulos de publicaciones, categoría de los mismos, información de idioma y confiabilidad de la anotación. Cuenta con anotaciones de títulos para 632 categorías distintas.\n",
    "\n",
    "El dataset también cuenta con una partición de test que está compuesta de 63680 de ejemplos con las mismas categorías (aunque no necesariamente la misma distribución).\n",
    "\n",
    "\n",
    "\n",
    "# Resultados del práctico 2:\n",
    "Para la resolución de las tareas propuestas realizamos los siguientes pasos. Primero definimos las librerías necesarias:\n",
    "\n"
   ]
  },
  {
   "cell_type": "code",
   "execution_count": 2,
   "id": "fbee49be",
   "metadata": {},
   "outputs": [],
   "source": [
    "%matplotlib inline\n",
    "import matplotlib\n",
    "import matplotlib.pyplot as plt\n",
    "import seaborn\n",
    "import torch\n",
    "import torch.nn as nn\n",
    "import torch.optim as optim\n",
    "import torchvision\n",
    "import torchvision.transforms as transforms\n",
    "from torch.utils.data import Dataset, DataLoader, IterableDataset\n",
    "\n",
    "from gensim import corpora\n",
    "from gensim.parsing import preprocessing\n",
    "from gensim.models import KeyedVectors\n",
    "from gensim.parsing import preprocessing\n",
    "\n",
    "from sklearn import metrics\n",
    "from sklearn.model_selection import train_test_split\n",
    "from sklearn.metrics import average_precision_score\n",
    "from sklearn.metrics import classification_report\n",
    "\n",
    "import tqdm\n",
    "from tqdm.notebook import tqdm, trange\n",
    "from gensim.models import KeyedVectors\n",
    "\n",
    "import csv\n",
    "import functools\n",
    "import gzip\n",
    "import numpy as np\n",
    "import pandas as pd\n",
    "import tempfile\n",
    "import json\n",
    "import mlflow"
   ]
  },
  {
   "cell_type": "code",
   "execution_count": 3,
   "id": "92fbfe7b",
   "metadata": {},
   "outputs": [],
   "source": [
    "# # confirmamos la version de pytorch:\n",
    "# torch.__version__"
   ]
  },
  {
   "cell_type": "markdown",
   "id": "c1207a47",
   "metadata": {},
   "source": [
    "Para la descarga de la información usamos:"
   ]
  },
  {
   "cell_type": "code",
   "execution_count": 4,
   "id": "88bcc9d4",
   "metadata": {},
   "outputs": [],
   "source": [
    "# #Los datos fueron cargados la primera vez que se ejecutó este bloque de código, por este motivo el código está comentado\n",
    "# !mkdir ./data\n",
    "# !curl -L https://cs.famaf.unc.edu.ar/\\~ccardellino/resources/diplodatos/glove.6B.50d.txt.gz -o ./data/glove.6B.50d.txt.gz\n",
    "# !curl -L https://cs.famaf.unc.edu.ar/\\~ccardellino/resources/diplodatos/meli-challenge-2019.tar.bz2 -o ./data/meli-challenge-2019.tar.bz2\n",
    "# !tar jxvf ./data/meli-challenge-2019.tar.bz2 -C ./data/\n",
    "# !pip install mlflow\n"
   ]
  },
  {
   "cell_type": "code",
   "execution_count": 5,
   "id": "eea9a51c",
   "metadata": {},
   "outputs": [],
   "source": [
    "# !wget https://cs.famaf.unc.edu.ar/~ccardellino/SBWCE/SBW-vectors-300-min5.txt.bz2"
   ]
  },
  {
   "cell_type": "code",
   "execution_count": 6,
   "id": "70cb5450",
   "metadata": {},
   "outputs": [],
   "source": [
    "# !curl -L https://cs.famaf.unc.edu.ar/\\~ccardellino/resources/diplodatos/SBW-vectors-300-min5.txt.bz2 -o ./data/SBW-vectors-300-min5.txt.bz2\n",
    "# !tar -xf ./data/SBW-vectors-300-min5.txt.bz2 -C ./data/"
   ]
  },
  {
   "cell_type": "markdown",
   "id": "7b3298f5",
   "metadata": {},
   "source": [
    "### Analizamos el contenido y distribución\n",
    "Leemos el conjunto de datos fragmentado:"
   ]
  },
  {
   "cell_type": "code",
   "execution_count": null,
   "id": "a0123cfd",
   "metadata": {},
   "outputs": [],
   "source": [
    "# Definimos el conjunto de datos de entrenamiento / Formato Json a Dataframe:\n",
    "train_df = pd.concat([x for x in pd.read_json('./data/meli-challenge-2019/spanish.train.jsonl.gz',\\\n",
    "                                              lines=True, chunksize=100000)], ignore_index=True)\n",
    "train_df.head(3)"
   ]
  },
  {
   "cell_type": "code",
   "execution_count": null,
   "id": "c6e7b115",
   "metadata": {},
   "outputs": [],
   "source": [
    "# train_df"
   ]
  },
  {
   "cell_type": "code",
   "execution_count": null,
   "id": "8cdf20e3",
   "metadata": {},
   "outputs": [],
   "source": [
    "train_df.info()"
   ]
  },
  {
   "cell_type": "code",
   "execution_count": null,
   "id": "cb4e52cf",
   "metadata": {},
   "outputs": [],
   "source": [
    "# Definimos el conjunto de datos de test / Formato Json a Dataframe:\n",
    "test_df = pd.concat([x for x in pd.read_json('./data/meli-challenge-2019/spanish.validation.jsonl.gz',\\\n",
    "                                              lines=True, chunksize=100000)], ignore_index=True)\n",
    "test_df.tail(3)\n",
    "# train_df = pd.concat([x for x in pd.read_json('./data/meli-challenge-2019/spanish.train.jsonl.gz',\\\n",
    "#                                               lines=True, chunksize=100000)], ignore_index=True)\n",
    "# pd.read_json(\"/content/data/meli-challenge-2019/spanish.validation.jsonl.gz\",lines=True, orient='records')"
   ]
  },
  {
   "cell_type": "code",
   "execution_count": null,
   "id": "51243dec",
   "metadata": {},
   "outputs": [],
   "source": [
    "train_df.info()"
   ]
  },
  {
   "cell_type": "code",
   "execution_count": null,
   "id": "de5e8ef4",
   "metadata": {},
   "outputs": [],
   "source": [
    "# Definimos el conjunto de datos de validacion / Formato Json a Dataframe:\n",
    "valid_df = pd.concat([x for x in pd.read_json('./data/meli-challenge-2019/spanish.test.jsonl.gz',\\\n",
    "                                             lines=True, chunksize=100000)], ignore_index=True)\n",
    "valid_df.tail(3)"
   ]
  },
  {
   "cell_type": "code",
   "execution_count": null,
   "id": "0e26c73b",
   "metadata": {},
   "outputs": [],
   "source": [
    "# creando dos subdataset y dando información general: \n",
    "df_train = train_df.loc[:, ['category', 'title']]\n",
    "print(f'Forma del conjunto de datos entrenamiento: {df_train.shape}, \\n{df_train.head(3)}\\n')\n",
    "df_train.info()"
   ]
  },
  {
   "cell_type": "code",
   "execution_count": null,
   "id": "b7e8d92d",
   "metadata": {},
   "outputs": [],
   "source": [
    "# Ahora con datos de prueba:\n",
    "df_test = test_df.loc[:, ['category', 'title']]\n",
    "print(f'Forma del conjunto de datos prueba: {df_test.shape}, \\n{df_test.head(3)}\\n')\n",
    "df_test.info()"
   ]
  },
  {
   "cell_type": "code",
   "execution_count": null,
   "id": "88e8ffb6",
   "metadata": {},
   "outputs": [],
   "source": [
    "df_test"
   ]
  },
  {
   "cell_type": "code",
   "execution_count": null,
   "id": "df5051b8",
   "metadata": {},
   "outputs": [],
   "source": [
    "# creando dos subdataset y dando información general: \n",
    "val_df = valid_df.loc[:, ['category', 'title']]\n",
    "print(f'Forma del conjunto de datos Validacion: {val_df.shape}, \\n{val_df.head(3)}\\n')\n",
    "val_df.info()"
   ]
  },
  {
   "cell_type": "code",
   "execution_count": null,
   "id": "1fc64068",
   "metadata": {},
   "outputs": [],
   "source": [
    "val_df.head()"
   ]
  },
  {
   "cell_type": "markdown",
   "id": "a10a6aba",
   "metadata": {},
   "source": [
    "Definimos las clases que seran útiles para el procesamiento del conjunto de datos:"
   ]
  },
  {
   "cell_type": "code",
   "execution_count": null,
   "id": "c02e8716",
   "metadata": {},
   "outputs": [],
   "source": [
    "data = pd.concat([df_train,val_df,df_test], ignore_index=True)\n",
    "data.head(3)"
   ]
  },
  {
   "cell_type": "code",
   "execution_count": null,
   "id": "5376996a",
   "metadata": {},
   "outputs": [],
   "source": [
    "data['category'].nunique()\n",
    "\n",
    "# 632 posibles titulos"
   ]
  },
  {
   "cell_type": "code",
   "execution_count": null,
   "id": "78e052c8",
   "metadata": {},
   "outputs": [],
   "source": [
    "import seaborn as sns\n",
    "from matplotlib import pyplot as plt\n",
    "\n",
    "\n",
    "conteo_tit_cat = data['category'].value_counts()\n",
    "\n",
    "\n",
    "plt.figure(figsize=(20, 5))\n",
    "conteo_tit_cat.sort_values()"
   ]
  },
  {
   "cell_type": "markdown",
   "id": "0ddc4a47",
   "metadata": {},
   "source": [
    "En general podemos inferir que las categorias de entrada presentan un notorio desbalance. Esto puede ser una posible fuente de error que afecte el desarrollo de los modelos."
   ]
  },
  {
   "cell_type": "markdown",
   "id": "2b31ac79",
   "metadata": {},
   "source": [
    "A continuacion formamos el procesador del conjunto de datos"
   ]
  },
  {
   "cell_type": "code",
   "execution_count": null,
   "id": "69445493",
   "metadata": {},
   "outputs": [],
   "source": [
    "class RawDataProcessor:\n",
    "    def __init__(self, \n",
    "                 dataset, \n",
    "                 ignore_header=True, \n",
    "                 filters=None, \n",
    "                 vocab_size=50000):\n",
    "        if filters:\n",
    "            self.filters = filters\n",
    "        else:\n",
    "            self.filters = [\n",
    "                lambda s: s.lower(),\n",
    "                preprocessing.strip_tags,\n",
    "                preprocessing.strip_punctuation,\n",
    "                preprocessing.strip_multiple_whitespaces,\n",
    "                preprocessing.strip_numeric,\n",
    "                preprocessing.remove_stopwords,\n",
    "                preprocessing.strip_short,\n",
    "            ]\n",
    "        \n",
    "        # Create dictionary based on all the reviews (with corresponding preprocessing)\n",
    "        # https://radimrehurek.com/gensim/corpora/dictionary.html\n",
    "        self.dictionary = corpora.Dictionary(\n",
    "            dataset[\"title\"].map(self._preprocess_string).tolist()\n",
    "        )\n",
    "        # Filter the dictionary with extremos words\n",
    "        # https://tedboy.github.io/nlps/generated/generated/gensim.corpora.Dictionary.filter_extremes.html?highlight=filter_extrem\n",
    " #       self.dictionary.filter_extremes(no_below=2, no_above=1, keep_n=vocab_size)\n",
    "        \n",
    "        # Make the indices continuous after some words have been removed\n",
    "        # https://tedboy.github.io/nlps/generated/generated/gensim.corpora.Dictionary.compactify.html\n",
    "        self.dictionary.compactify()\n",
    "        \n",
    "        #### Cambio\n",
    "        self.dictionary.filter_extremes(no_below=2, no_above=1, keep_n=vocab_size)\n",
    "        self.dictionary.compactify()\n",
    "\n",
    "        self.dictionary.patch_with_special_tokens({\n",
    "            \"[PAD]\": 0,\n",
    "            \"[UNK]\": 1 \n",
    "        })\n",
    "        #### Cambio\n",
    "        \n",
    "       \n",
    "        self.idx_to_target = sorted(dataset[\"category\"].unique())\n",
    "        self.target_to_idx = {t: i for i, t in enumerate(self.idx_to_target)}\n",
    "\n",
    "\n",
    "    def _preprocess_string(self, string):\n",
    "        # https://radimrehurek.com/gensim/parsing/preprocessing.html#gensim.parsing.preprocessing.preprocess_string:~:text=gensim.parsing.preprocessing.preprocess_string\n",
    "        return preprocessing.preprocess_string(string, filters=self.filters)\n",
    "\n",
    "    def _sentence_to_indices(self, sentence):\n",
    "      # https://radimrehurek.com/gensim/corpora/dictionary.html#:~:text=doc2idx(document,via%20unknown_word_index.\n",
    "        return self.dictionary.doc2idx(sentence, unknown_word_index=1)\n",
    "    \n",
    "    def encode_data(self, data):\n",
    "        return self._sentence_to_indices(self._preprocess_string(data))\n",
    "    \n",
    "    def encode_target(self, target):\n",
    "        return self.target_to_idx[target]\n",
    "    \n",
    "    def __call__(self, item):\n",
    "        if isinstance(item[\"data\"], str):\n",
    "            data = self.encode_data(item[\"data\"])\n",
    "        else:\n",
    "            data = [self.encode_data(d) for d in item[\"data\"]]\n",
    "        \n",
    "        if isinstance(item[\"target\"], str):\n",
    "            target = self.encode_target(item[\"target\"])\n",
    "        else:\n",
    "            target = [self.encode_target(t) for t in item[\"target\"]]\n",
    "        \n",
    "        return {\n",
    "            \"data\": data,\n",
    "            \"target\": target\n",
    "        }"
   ]
  },
  {
   "cell_type": "code",
   "execution_count": null,
   "id": "a1416640",
   "metadata": {},
   "outputs": [],
   "source": [
    "class MelichanllegeDataset(Dataset):\n",
    "    def __init__(self, dataset, transform=None):\n",
    "        self.dataset = dataset\n",
    "        self.transform = transform\n",
    "    \n",
    "    def __len__(self):\n",
    "        return self.dataset.shape[0]\n",
    "\n",
    "    def __getitem__(self, item):\n",
    "        if torch.is_tensor(item):\n",
    "            item = item.to_list()\n",
    "        \n",
    "        item = {\n",
    "            \"data\": self.dataset.loc[item, \"title\"],\n",
    "            \"target\": self.dataset.loc[item, \"category\"]\n",
    "        }\n",
    "        \n",
    "        if self.transform:\n",
    "            item = self.transform(item)\n",
    "        \n",
    "        return item\n",
    "    \n",
    "    "
   ]
  },
  {
   "cell_type": "markdown",
   "id": "7248c6b6",
   "metadata": {},
   "source": [
    "Pasamos a aplicar las clases definidas previamente para preprocesar ambos conjuntos:"
   ]
  },
  {
   "cell_type": "code",
   "execution_count": null,
   "id": "a7d56d1b",
   "metadata": {},
   "outputs": [],
   "source": [
    "#Cambio! \n",
    "\n",
    "preprocess_train = RawDataProcessor(data)\n"
   ]
  },
  {
   "cell_type": "code",
   "execution_count": null,
   "id": "563c1d7e",
   "metadata": {},
   "outputs": [],
   "source": [
    "train_ds = MelichanllegeDataset(df_train, transform=preprocess_train)\n",
    "\n",
    "test_ds = MelichanllegeDataset(df_test, transform=preprocess_train)\n",
    "\n",
    "dev_ds = MelichanllegeDataset(val_df, transform=preprocess_train)\n",
    "\n",
    "# Entrenamiento y test\n",
    "print(f\"Datasets loaded with {len(train_ds)} training elements and {len(test_ds)} test elements\")\n",
    "print(f\"Sample train element:\\n{train_ds[0]}\")"
   ]
  },
  {
   "cell_type": "markdown",
   "id": "25a9ed01",
   "metadata": {},
   "source": [
    "Definimos el modulo Padsequences, recordando que este se define para tomar un valor mínimo y opcionalmente un valor máximo, así como un valor de relleno (pad) y una lista de secuencias. Este nos retornara un tensor con padding sobre dichas secuencias."
   ]
  },
  {
   "cell_type": "code",
   "execution_count": null,
   "id": "30b144b6",
   "metadata": {},
   "outputs": [],
   "source": [
    "class PadSequences:\n",
    "    def __init__(self, pad_value=0, max_length=None, min_length=1):\n",
    "        assert max_length is None or min_length <= max_length\n",
    "        self.pad_value = pad_value\n",
    "        self.max_length = max_length\n",
    "        self.min_length = min_length\n",
    "\n",
    "    def __call__(self, items):\n",
    "        data, target = list(zip(*[(item[\"data\"], item[\"target\"]) for item in items]))\n",
    "        seq_lengths = [len(d) for d in data]\n",
    "\n",
    "        if self.max_length:\n",
    "            max_length = self.max_length\n",
    "            seq_lengths = [min(self.max_length, l) for l in seq_lengths]\n",
    "        else:\n",
    "            max_length = max(self.min_length, max(seq_lengths))\n",
    "\n",
    "        data = [d[:l] + [self.pad_value] * (max_length - l)\n",
    "                for d, l in zip(data, seq_lengths)]\n",
    "            \n",
    "        return {\n",
    "            \"data\": torch.LongTensor(data),\n",
    "            \"target\": torch.FloatTensor(target)\n",
    "        }"
   ]
  },
  {
   "cell_type": "markdown",
   "id": "91249d59",
   "metadata": {},
   "source": [
    "## DataLoaders\n",
    "Aplicamos el modulo anterior y especificamos nuestros DataLoaders (uno para entrenamiento y otro para evaluación)."
   ]
  },
  {
   "cell_type": "code",
   "execution_count": null,
   "id": "f27e6698",
   "metadata": {},
   "outputs": [],
   "source": [
    "EPOCHS = 5\n",
    "FILTERS_COUNT = [100,100,100] #num_filters\n",
    "FILTERS_LENGTH = [3, 4, 5] #filter_sizes\n",
    "\n",
    "pad_sequences = PadSequences(min_length=max(FILTERS_LENGTH))\n",
    "\n",
    "train_loader = DataLoader(train_ds, batch_size=96, shuffle=True,\n",
    "                          collate_fn=pad_sequences, drop_last=False, num_workers=0)\n",
    "\n",
    "dev_loader = DataLoader(dev_ds, batch_size=96, shuffle=True,\n",
    "                         collate_fn=pad_sequences, drop_last=False, num_workers=0)\n"
   ]
  },
  {
   "cell_type": "code",
   "execution_count": null,
   "id": "bedcfbbd",
   "metadata": {},
   "outputs": [],
   "source": [
    "test_loader = DataLoader(test_ds, batch_size=96, shuffle=False,\n",
    "                         collate_fn=pad_sequences, drop_last=False, num_workers=0)"
   ]
  },
  {
   "cell_type": "markdown",
   "id": "175bd399",
   "metadata": {},
   "source": [
    "## Parte 2: Esqueleto de la red CNN\n",
    "Definimos el modelo a entrenar."
   ]
  },
  {
   "cell_type": "code",
   "execution_count": null,
   "id": "3cf99a75",
   "metadata": {},
   "outputs": [],
   "source": [
    "# Eligiendo dispositivo (se puede cambiar en notebook settings)\n",
    "is_cuda = torch.cuda.is_available()\n",
    "\n",
    "if is_cuda:\n",
    "    device = torch.device(\"cuda:0\")\n",
    "    print(\"GPU disponible\")\n",
    "else:\n",
    "    device = torch.device(\"cpu\")\n",
    "    print(\"GPU no disponible, usando CPU\")"
   ]
  },
  {
   "cell_type": "code",
   "execution_count": null,
   "id": "5920078b",
   "metadata": {},
   "outputs": [],
   "source": [
    "import bz2\n",
    "import os\n",
    "import sys "
   ]
  },
  {
   "cell_type": "code",
   "execution_count": null,
   "id": "0def3598",
   "metadata": {},
   "outputs": [],
   "source": [
    "import torch.nn.functional as F\n",
    "from sklearn.metrics import balanced_accuracy_score"
   ]
  },
  {
   "cell_type": "markdown",
   "id": "ff444ed2",
   "metadata": {},
   "source": [
    "## Experimento de MLflow\n",
    "\n",
    "### CNN - Para texto:\n",
    "Definimos el modelo a entrenar en nuestro caso usaremos"
   ]
  },
  {
   "cell_type": "code",
   "execution_count": null,
   "id": "6723bbea",
   "metadata": {},
   "outputs": [],
   "source": [
    "class CNN(nn.Module):\n",
    "    def __init__(self,  \n",
    "                 pretrained_embeddings_path, \n",
    "                 dictionary,\n",
    "                 vector_size,\n",
    "                 freeze_embedings=True,\n",
    "                 num_filters=[100,100,100],\n",
    "                 filter_sizes=[3, 4, 5], num_classes=632, dropout=0.5):\n",
    "    \n",
    "        \n",
    "        super(CNN, self).__init__()\n",
    "        \n",
    "       \n",
    "        embeddings_matrix = torch.randn(len(dictionary), vector_size)\n",
    "        embeddings_matrix[0] = torch.zeros(vector_size)\n",
    "        \n",
    "        with bz2.open(pretrained_embeddings_path, \"rt\") as fh:\n",
    "            for line in fh:\n",
    "                word, vector = line.strip().split(None, 1)\n",
    "                if word in dictionary.token2id:\n",
    "                    embeddings_matrix[dictionary.token2id[word]] =\\\n",
    "                        torch.FloatTensor([float(n) for n in vector.split()])\n",
    "        self.embeddings = nn.Embedding.from_pretrained(embeddings_matrix,\n",
    "                                                       freeze=freeze_embedings,\n",
    "                                                       padding_idx=0)\n",
    "         \n",
    "        self.convs = []\n",
    "        for fs in range(len(filter_sizes)):\n",
    "            self.convs.append(nn.Conv1d(vector_size,\n",
    "                          num_filters[fs],\n",
    "                          filter_sizes[fs])\n",
    "            )\n",
    "        self.convs = nn.ModuleList(self.convs)\n",
    "        \n",
    "        self.fc1 = nn.Linear(np.sum(num_filters), int(np.sum(num_filters) / 2))\n",
    "        self.fc2 = nn.Linear(int(np.sum(num_filters) / 2), num_classes)\n",
    "        self.dropout = nn.Dropout(p=dropout)\n",
    "        self.output_layer = nn.Linear(num_classes, num_classes)\n",
    "        \n",
    "       \n",
    "\n",
    "    \n",
    "#     @staticmethod\n",
    "#     def conv_global_max_pool(x, conv):\n",
    "#         return F.relu(conv(x).transpose(1, 2).max(1)[0])\n",
    "    \n",
    "    def forward(self, x):\n",
    "#         transpose(1, 2)\n",
    "        x_reshaped = self.embeddings(x).permute(0, 2, 1)  # Conv1d takes (batch, channel, seq_len)\n",
    "#         [self.conv_global_max_pool(x, conv) for conv in self.convs]\n",
    "        x_conv_list = [F.relu(conv1d(x_reshaped)) for conv1d in self.convs]\n",
    "        x_pool_list = [F.max_pool1d(x_conv, kernel_size=x_conv.shape[2]) for x_conv in x_conv_list]\n",
    "        \n",
    "        x_fc1 = torch.cat([x_pool.squeeze(dim=2) for x_pool in x_pool_list], dim=1)\n",
    "        x_fc2 = self.fc1(self.dropout(x_fc1))\n",
    "        x = self.fc2(self.dropout(x_fc2))\n",
    "#         print(x.shape,x.dtype)\n",
    "        x = F.softmax(self.output_layer(x), 1)\n",
    "        \n",
    "        return x\n",
    "    \n",
    "    \n",
    "    "
   ]
  },
  {
   "cell_type": "markdown",
   "id": "7edef663",
   "metadata": {},
   "source": [
    "Encapsularemos el algoritmo de entrenamiento dentro de una función parametrizable. La función debería devolver los resultados obtenidos."
   ]
  },
  {
   "cell_type": "code",
   "execution_count": 33,
   "id": "801171e2",
   "metadata": {},
   "outputs": [
    {
     "data": {
      "application/vnd.jupyter.widget-view+json": {
       "model_id": "c17b61fc85714522bbe0c29f924bca53",
       "version_major": 2,
       "version_minor": 0
      },
      "text/plain": [
       "  0%|          | 0/3 [00:00<?, ?it/s]"
      ]
     },
     "metadata": {},
     "output_type": "display_data"
    },
    {
     "data": {
      "application/vnd.jupyter.widget-view+json": {
       "model_id": "c4e04ec40e63439fb272da8ce7f9e02c",
       "version_major": 2,
       "version_minor": 0
      },
      "text/plain": [
       "  0%|          | 0/50993 [00:00<?, ?it/s]"
      ]
     },
     "metadata": {},
     "output_type": "display_data"
    },
    {
     "data": {
      "application/vnd.jupyter.widget-view+json": {
       "model_id": "b2c3499707bf4d4ebcbc90d77f4496d3",
       "version_major": 2,
       "version_minor": 0
      },
      "text/plain": [
       "  0%|          | 0/664 [00:00<?, ?it/s]"
      ]
     },
     "metadata": {},
     "output_type": "display_data"
    },
    {
     "name": "stdout",
     "output_type": "stream",
     "text": [
      "Perdida-loss/validacion: 6.448891149227878\n",
      "val_avp: 0.0015822784810126582\n"
     ]
    },
    {
     "data": {
      "application/vnd.jupyter.widget-view+json": {
       "model_id": "4b49300495a644289e2a3bc224ec29ac",
       "version_major": 2,
       "version_minor": 0
      },
      "text/plain": [
       "  0%|          | 0/50993 [00:00<?, ?it/s]"
      ]
     },
     "metadata": {},
     "output_type": "display_data"
    },
    {
     "data": {
      "application/vnd.jupyter.widget-view+json": {
       "model_id": "dc9411475b18497aa59fec9734fd6545",
       "version_major": 2,
       "version_minor": 0
      },
      "text/plain": [
       "  0%|          | 0/664 [00:00<?, ?it/s]"
      ]
     },
     "metadata": {},
     "output_type": "display_data"
    },
    {
     "name": "stdout",
     "output_type": "stream",
     "text": [
      "Perdida-loss/validacion: 6.448891106140183\n",
      "val_avp: 0.0015822784810126582\n"
     ]
    },
    {
     "data": {
      "application/vnd.jupyter.widget-view+json": {
       "model_id": "d9b9fe1215bc4df182dd16f32de26697",
       "version_major": 2,
       "version_minor": 0
      },
      "text/plain": [
       "  0%|          | 0/50993 [00:00<?, ?it/s]"
      ]
     },
     "metadata": {},
     "output_type": "display_data"
    },
    {
     "data": {
      "application/vnd.jupyter.widget-view+json": {
       "model_id": "bc47b3262af34cf19fcf2eec2648b88f",
       "version_major": 2,
       "version_minor": 0
      },
      "text/plain": [
       "  0%|          | 0/664 [00:00<?, ?it/s]"
      ]
     },
     "metadata": {},
     "output_type": "display_data"
    },
    {
     "name": "stdout",
     "output_type": "stream",
     "text": [
      "Perdida-loss/validacion: 6.448891138455954\n",
      "val_avp: 0.0015822784810126582\n"
     ]
    }
   ],
   "source": [
    "from sklearn import metrics\n",
    "\n",
    "mlflow.set_experiment(\"Experimento_3_CNN\")\n",
    "\n",
    "with mlflow.start_run():\n",
    "    mlflow.log_param(\"model_name\", \"CNN\")\n",
    "    mlflow.log_param(\"freeze_embedding\", True)\n",
    "    mlflow.log_params({\n",
    "        \n",
    "        \"filters_count\": FILTERS_COUNT,\n",
    "        \"filters_length\": FILTERS_LENGTH,\n",
    "#         \"fc_size\": 100\n",
    "    })\n",
    "    \n",
    "    cnn = CNN(\"./data/SBW-vectors-300-min5.txt.bz2\",\n",
    "              preprocess_train.dictionary, \n",
    "              vector_size=300,\n",
    "              freeze_embedings=True,\n",
    "              num_filters=[100,100,100],\n",
    "              filter_sizes=[3, 4, 5],\n",
    "              num_classes=632,\n",
    "              dropout=0.5)\n",
    "    \n",
    "    cnn.to(device)\n",
    "    \n",
    "    loss_function = nn.CrossEntropyLoss()\n",
    "    optimizer = optim.Adam(cnn.parameters(), lr=1e-3, weight_decay=0.01)\n",
    "    \n",
    "    historyCNN = {'val_loss': [],\n",
    "               'train_loss': [],\n",
    "               'total_accuracy': []\n",
    "              }       \n",
    "    \n",
    "    \n",
    "    for epoch in trange(EPOCHS):\n",
    "        cnn.train()\n",
    "        running_loss = []\n",
    "        \n",
    "        for idx, batch in enumerate(tqdm(train_loader)):\n",
    "            optimizer.zero_grad()\n",
    "            inputs = batch[\"data\"].to(device)\n",
    "            labels = batch[\"target\"].squeeze().long()\n",
    "            labels = labels.to(device)\n",
    "            \n",
    "            \n",
    "            outputs = cnn(inputs)\n",
    "\n",
    "            loss_value = loss_function(outputs, labels)\n",
    "\n",
    "            loss_value.backward()\n",
    "            optimizer.step()\n",
    "            \n",
    "            running_loss.append(loss_value.item()) \n",
    "            \n",
    "        mlflow.log_metric(\"train_loss\", sum(running_loss) / len(running_loss), epoch)\n",
    "        historyCNN['train_loss'].append(( sum(running_loss) / len(running_loss), epoch))\n",
    "        \n",
    "        cnn.eval()\n",
    "        \n",
    "        running_loss_dev = []\n",
    "        targets = []\n",
    "        predictions = []\n",
    "        \n",
    "        for i, data in enumerate(tqdm(dev_loader)):\n",
    "            \n",
    "            inputs_v = data[\"data\"].to(device)\n",
    "            labels_v = data[\"target\"].squeeze().long()\n",
    "            labels_v = labels_v.to(device)            \n",
    "            output = cnn(inputs_v)\n",
    "            \n",
    "            running_loss_dev.append(loss_function(output, labels_v).item())\n",
    "            _, predicted = torch.max(output.data, 1)\n",
    "            \n",
    "            targets.extend(labels_v.cpu().numpy())\n",
    "            predictions.extend(predicted.cpu().numpy())\n",
    "            \n",
    "        mlflow.log_metric(\"val_loss\", sum(running_loss_dev) / len(running_loss_dev), epoch)\n",
    "        mlflow.log_metric(\"val_avp\", balanced_accuracy_score(targets, predictions), epoch)\n",
    "        \n",
    "        historyCNN['val_loss'].append((sum(running_loss_dev) / len(running_loss_dev), epoch))\n",
    "        historyCNN['total_accuracy'].append((balanced_accuracy_score(targets, predictions), epoch))\n",
    "       \n",
    "        print(f'Perdida-loss/validacion: {sum(running_loss_dev)/len(running_loss_dev)}')\n",
    "        print(f'val_avp: {balanced_accuracy_score(targets, predictions)}')\n",
    "\n",
    "                "
   ]
  },
  {
   "cell_type": "code",
   "execution_count": 34,
   "id": "ccaec213",
   "metadata": {},
   "outputs": [
    {
     "name": "stdout",
     "output_type": "stream",
     "text": [
      "CNN(\n",
      "  (embeddings): Embedding(50002, 300, padding_idx=0)\n",
      "  (convs): ModuleList(\n",
      "    (0): Conv1d(300, 100, kernel_size=(3,), stride=(1,))\n",
      "    (1): Conv1d(300, 100, kernel_size=(4,), stride=(1,))\n",
      "    (2): Conv1d(300, 100, kernel_size=(5,), stride=(1,))\n",
      "  )\n",
      "  (fc1): Linear(in_features=300, out_features=150, bias=True)\n",
      "  (fc2): Linear(in_features=150, out_features=632, bias=True)\n",
      "  (dropout): Dropout(p=0.5, inplace=False)\n",
      "  (output_layer): Linear(in_features=632, out_features=632, bias=True)\n",
      ")\n"
     ]
    }
   ],
   "source": [
    "# print(cnn)\n"
   ]
  },
  {
   "cell_type": "code",
   "execution_count": null,
   "id": "432a260f",
   "metadata": {},
   "outputs": [],
   "source": [
    "# historyCNN"
   ]
  },
  {
   "cell_type": "code",
   "execution_count": 36,
   "id": "4e62e351",
   "metadata": {},
   "outputs": [
    {
     "data": {
      "text/html": [
       "<div>\n",
       "<style scoped>\n",
       "    .dataframe tbody tr th:only-of-type {\n",
       "        vertical-align: middle;\n",
       "    }\n",
       "\n",
       "    .dataframe tbody tr th {\n",
       "        vertical-align: top;\n",
       "    }\n",
       "\n",
       "    .dataframe thead th {\n",
       "        text-align: right;\n",
       "    }\n",
       "</style>\n",
       "<table border=\"1\" class=\"dataframe\">\n",
       "  <thead>\n",
       "    <tr style=\"text-align: right;\">\n",
       "      <th></th>\n",
       "      <th>run_id</th>\n",
       "      <th>experiment_id</th>\n",
       "      <th>status</th>\n",
       "      <th>artifact_uri</th>\n",
       "      <th>start_time</th>\n",
       "      <th>end_time</th>\n",
       "      <th>metrics.train_loss</th>\n",
       "      <th>metrics.val_loss</th>\n",
       "      <th>metrics.val_avp</th>\n",
       "      <th>params.filters_length</th>\n",
       "      <th>params.filters_count</th>\n",
       "      <th>params.freeze_embedding</th>\n",
       "      <th>params.model_name</th>\n",
       "      <th>params.fc_size</th>\n",
       "      <th>tags.mlflow.user</th>\n",
       "      <th>tags.mlflow.source.name</th>\n",
       "      <th>tags.mlflow.runName</th>\n",
       "      <th>tags.mlflow.source.type</th>\n",
       "    </tr>\n",
       "  </thead>\n",
       "  <tbody>\n",
       "    <tr>\n",
       "      <th>0</th>\n",
       "      <td>c84c315fc117455cb7b8f535696b7406</td>\n",
       "      <td>6</td>\n",
       "      <td>FINISHED</td>\n",
       "      <td>file:///users/dfonnegra/mlruns/6/c84c315fc1174...</td>\n",
       "      <td>2022-11-11 00:06:46.177000+00:00</td>\n",
       "      <td>2022-11-11 00:48:57.387000+00:00</td>\n",
       "      <td>6.448891</td>\n",
       "      <td>6.448891</td>\n",
       "      <td>0.001582</td>\n",
       "      <td>[3, 4, 5]</td>\n",
       "      <td>[100, 100, 100]</td>\n",
       "      <td>True</td>\n",
       "      <td>CNN</td>\n",
       "      <td>None</td>\n",
       "      <td>dfonnegra</td>\n",
       "      <td>/users/dfonnegra/miniconda3/envs/deeplearning/...</td>\n",
       "      <td>funny-bass-207</td>\n",
       "      <td>LOCAL</td>\n",
       "    </tr>\n",
       "    <tr>\n",
       "      <th>4</th>\n",
       "      <td>535d783cf93d4ba98248e909dd6d5d82</td>\n",
       "      <td>6</td>\n",
       "      <td>FINISHED</td>\n",
       "      <td>file:///users/dfonnegra/mlruns/6/535d783cf93d4...</td>\n",
       "      <td>2022-11-10 22:50:59.404000+00:00</td>\n",
       "      <td>2022-11-10 23:17:30.121000+00:00</td>\n",
       "      <td>6.448891</td>\n",
       "      <td>6.448891</td>\n",
       "      <td>0.001582</td>\n",
       "      <td>[3, 4, 5]</td>\n",
       "      <td>[100, 100, 100]</td>\n",
       "      <td>True</td>\n",
       "      <td>CNN</td>\n",
       "      <td>None</td>\n",
       "      <td>dfonnegra</td>\n",
       "      <td>/users/dfonnegra/miniconda3/envs/deeplearning/...</td>\n",
       "      <td>suave-hare-243</td>\n",
       "      <td>LOCAL</td>\n",
       "    </tr>\n",
       "    <tr>\n",
       "      <th>5</th>\n",
       "      <td>00b3c710c87144d38f392f82ea225bf4</td>\n",
       "      <td>6</td>\n",
       "      <td>FINISHED</td>\n",
       "      <td>file:///users/dfonnegra/mlruns/6/00b3c710c8714...</td>\n",
       "      <td>2022-11-10 22:00:33.990000+00:00</td>\n",
       "      <td>2022-11-10 22:50:04.123000+00:00</td>\n",
       "      <td>6.448891</td>\n",
       "      <td>6.448891</td>\n",
       "      <td>0.001582</td>\n",
       "      <td>[3, 4, 5]</td>\n",
       "      <td>[100, 100, 100]</td>\n",
       "      <td>True</td>\n",
       "      <td>CNN</td>\n",
       "      <td>None</td>\n",
       "      <td>dfonnegra</td>\n",
       "      <td>/users/dfonnegra/miniconda3/envs/deeplearning/...</td>\n",
       "      <td>polite-skunk-12</td>\n",
       "      <td>LOCAL</td>\n",
       "    </tr>\n",
       "    <tr>\n",
       "      <th>25</th>\n",
       "      <td>8235a004247f42d4910dc59b6b7500a0</td>\n",
       "      <td>6</td>\n",
       "      <td>FINISHED</td>\n",
       "      <td>file:///users/dfonnegra/mlruns/6/8235a004247f4...</td>\n",
       "      <td>2022-11-02 22:48:33.375000+00:00</td>\n",
       "      <td>2022-11-03 00:04:52.868000+00:00</td>\n",
       "      <td>0.000000</td>\n",
       "      <td>0.000000</td>\n",
       "      <td>0.001582</td>\n",
       "      <td>[2, 3, 4]</td>\n",
       "      <td>100</td>\n",
       "      <td>True</td>\n",
       "      <td>CNN</td>\n",
       "      <td>100</td>\n",
       "      <td>dfonnegra</td>\n",
       "      <td>/users/dfonnegra/miniconda3/envs/deeplearning/...</td>\n",
       "      <td>fearless-moose-556</td>\n",
       "      <td>LOCAL</td>\n",
       "    </tr>\n",
       "    <tr>\n",
       "      <th>32</th>\n",
       "      <td>771ceaed6535429b97cc99d5e00d71c7</td>\n",
       "      <td>6</td>\n",
       "      <td>FINISHED</td>\n",
       "      <td>file:///users/dfonnegra/mlruns/6/771ceaed65354...</td>\n",
       "      <td>2022-11-02 18:07:46.090000+00:00</td>\n",
       "      <td>2022-11-02 19:38:39.829000+00:00</td>\n",
       "      <td>-31225.488365</td>\n",
       "      <td>-31225.731217</td>\n",
       "      <td>0.001582</td>\n",
       "      <td>[2, 3, 4]</td>\n",
       "      <td>100</td>\n",
       "      <td>True</td>\n",
       "      <td>CNN</td>\n",
       "      <td>100</td>\n",
       "      <td>dfonnegra</td>\n",
       "      <td>/users/dfonnegra/miniconda3/envs/deeplearning/...</td>\n",
       "      <td>carefree-hen-512</td>\n",
       "      <td>LOCAL</td>\n",
       "    </tr>\n",
       "    <tr>\n",
       "      <th>38</th>\n",
       "      <td>b981782399394982ad4221e396292ed9</td>\n",
       "      <td>6</td>\n",
       "      <td>FINISHED</td>\n",
       "      <td>file:///users/dfonnegra/mlruns/6/b981782399394...</td>\n",
       "      <td>2022-11-02 16:50:43.381000+00:00</td>\n",
       "      <td>2022-11-02 17:31:38.797000+00:00</td>\n",
       "      <td>-31225.233430</td>\n",
       "      <td>-31225.671243</td>\n",
       "      <td>0.001582</td>\n",
       "      <td>[2, 3, 4]</td>\n",
       "      <td>100</td>\n",
       "      <td>True</td>\n",
       "      <td>CNN</td>\n",
       "      <td>50</td>\n",
       "      <td>dfonnegra</td>\n",
       "      <td>/users/dfonnegra/miniconda3/envs/deeplearning/...</td>\n",
       "      <td>awesome-slug-429</td>\n",
       "      <td>LOCAL</td>\n",
       "    </tr>\n",
       "  </tbody>\n",
       "</table>\n",
       "</div>"
      ],
      "text/plain": [
       "                              run_id experiment_id    status  \\\n",
       "0   c84c315fc117455cb7b8f535696b7406             6  FINISHED   \n",
       "4   535d783cf93d4ba98248e909dd6d5d82             6  FINISHED   \n",
       "5   00b3c710c87144d38f392f82ea225bf4             6  FINISHED   \n",
       "25  8235a004247f42d4910dc59b6b7500a0             6  FINISHED   \n",
       "32  771ceaed6535429b97cc99d5e00d71c7             6  FINISHED   \n",
       "38  b981782399394982ad4221e396292ed9             6  FINISHED   \n",
       "\n",
       "                                         artifact_uri  \\\n",
       "0   file:///users/dfonnegra/mlruns/6/c84c315fc1174...   \n",
       "4   file:///users/dfonnegra/mlruns/6/535d783cf93d4...   \n",
       "5   file:///users/dfonnegra/mlruns/6/00b3c710c8714...   \n",
       "25  file:///users/dfonnegra/mlruns/6/8235a004247f4...   \n",
       "32  file:///users/dfonnegra/mlruns/6/771ceaed65354...   \n",
       "38  file:///users/dfonnegra/mlruns/6/b981782399394...   \n",
       "\n",
       "                         start_time                         end_time  \\\n",
       "0  2022-11-11 00:06:46.177000+00:00 2022-11-11 00:48:57.387000+00:00   \n",
       "4  2022-11-10 22:50:59.404000+00:00 2022-11-10 23:17:30.121000+00:00   \n",
       "5  2022-11-10 22:00:33.990000+00:00 2022-11-10 22:50:04.123000+00:00   \n",
       "25 2022-11-02 22:48:33.375000+00:00 2022-11-03 00:04:52.868000+00:00   \n",
       "32 2022-11-02 18:07:46.090000+00:00 2022-11-02 19:38:39.829000+00:00   \n",
       "38 2022-11-02 16:50:43.381000+00:00 2022-11-02 17:31:38.797000+00:00   \n",
       "\n",
       "    metrics.train_loss  metrics.val_loss  metrics.val_avp  \\\n",
       "0             6.448891          6.448891         0.001582   \n",
       "4             6.448891          6.448891         0.001582   \n",
       "5             6.448891          6.448891         0.001582   \n",
       "25            0.000000          0.000000         0.001582   \n",
       "32       -31225.488365     -31225.731217         0.001582   \n",
       "38       -31225.233430     -31225.671243         0.001582   \n",
       "\n",
       "   params.filters_length params.filters_count params.freeze_embedding  \\\n",
       "0              [3, 4, 5]      [100, 100, 100]                    True   \n",
       "4              [3, 4, 5]      [100, 100, 100]                    True   \n",
       "5              [3, 4, 5]      [100, 100, 100]                    True   \n",
       "25             [2, 3, 4]                  100                    True   \n",
       "32             [2, 3, 4]                  100                    True   \n",
       "38             [2, 3, 4]                  100                    True   \n",
       "\n",
       "   params.model_name params.fc_size tags.mlflow.user  \\\n",
       "0                CNN           None        dfonnegra   \n",
       "4                CNN           None        dfonnegra   \n",
       "5                CNN           None        dfonnegra   \n",
       "25               CNN            100        dfonnegra   \n",
       "32               CNN            100        dfonnegra   \n",
       "38               CNN             50        dfonnegra   \n",
       "\n",
       "                              tags.mlflow.source.name tags.mlflow.runName  \\\n",
       "0   /users/dfonnegra/miniconda3/envs/deeplearning/...      funny-bass-207   \n",
       "4   /users/dfonnegra/miniconda3/envs/deeplearning/...      suave-hare-243   \n",
       "5   /users/dfonnegra/miniconda3/envs/deeplearning/...     polite-skunk-12   \n",
       "25  /users/dfonnegra/miniconda3/envs/deeplearning/...  fearless-moose-556   \n",
       "32  /users/dfonnegra/miniconda3/envs/deeplearning/...    carefree-hen-512   \n",
       "38  /users/dfonnegra/miniconda3/envs/deeplearning/...    awesome-slug-429   \n",
       "\n",
       "   tags.mlflow.source.type  \n",
       "0                    LOCAL  \n",
       "4                    LOCAL  \n",
       "5                    LOCAL  \n",
       "25                   LOCAL  \n",
       "32                   LOCAL  \n",
       "38                   LOCAL  "
      ]
     },
     "execution_count": 36,
     "metadata": {},
     "output_type": "execute_result"
    }
   ],
   "source": [
    "# mlflow.search_runs()\n",
    "# # runs = mlflow.search_runs()\n",
    "# runs[runs.status == \"FINISHED\"]"
   ]
  },
  {
   "cell_type": "markdown",
   "id": "30677716",
   "metadata": {},
   "source": [
    "# Resultados de las métricas\n",
    "### Gráficos para  CNN"
   ]
  },
  {
   "cell_type": "code",
   "execution_count": null,
   "id": "bc951d8a",
   "metadata": {},
   "outputs": [],
   "source": [
    "# For plotting\n",
    "import matplotlib.pyplot as plt\n",
    "import seaborn as sns\n",
    "sns.set_theme(style=\"darkgrid\")\n",
    "sns.set_context(\"notebook\", font_scale=1.25)\n"
   ]
  },
  {
   "cell_type": "code",
   "execution_count": 38,
   "id": "d59a4023",
   "metadata": {},
   "outputs": [
    {
     "name": "stdout",
     "output_type": "stream",
     "text": [
      "(0, 'Entrenamiento', 6.448891129105739)\n",
      "(0, 'Validación', 6.448891149227878)\n",
      "(1, 'Entrenamiento', 6.448891130770223)\n",
      "(1, 'Validación', 6.448891106140183)\n",
      "(2, 'Entrenamiento', 6.4488911301437035)\n",
      "(2, 'Validación', 6.448891138455954)\n"
     ]
    }
   ],
   "source": [
    "# data = []\n",
    "# for epoch, (train_loss, val_loss) in enumerate(zip(\n",
    "#         historyCNN['train_loss'], historyCNN['val_loss'])):\n",
    "#     print((epoch, 'Entrenamiento', train_loss[0]))\n",
    "#     print((epoch, 'Validación', val_loss[0]))\n",
    "#     data.append((epoch, 'Entrenamiento', train_loss[0]))\n",
    "#     data.append((epoch, 'Validación', val_loss[0]))\n",
    "# data = pd.DataFrame(data=data, columns=['Epoch', 'Conjunto', 'Loss'])"
   ]
  },
  {
   "cell_type": "code",
   "execution_count": 39,
   "id": "1b7cb8f8",
   "metadata": {},
   "outputs": [
    {
     "data": {
      "text/html": [
       "<div>\n",
       "<style scoped>\n",
       "    .dataframe tbody tr th:only-of-type {\n",
       "        vertical-align: middle;\n",
       "    }\n",
       "\n",
       "    .dataframe tbody tr th {\n",
       "        vertical-align: top;\n",
       "    }\n",
       "\n",
       "    .dataframe thead th {\n",
       "        text-align: right;\n",
       "    }\n",
       "</style>\n",
       "<table border=\"1\" class=\"dataframe\">\n",
       "  <thead>\n",
       "    <tr style=\"text-align: right;\">\n",
       "      <th></th>\n",
       "      <th>Epoch</th>\n",
       "      <th>Conjunto</th>\n",
       "      <th>Loss</th>\n",
       "    </tr>\n",
       "  </thead>\n",
       "  <tbody>\n",
       "    <tr>\n",
       "      <th>0</th>\n",
       "      <td>0</td>\n",
       "      <td>Entrenamiento</td>\n",
       "      <td>6.448891</td>\n",
       "    </tr>\n",
       "    <tr>\n",
       "      <th>1</th>\n",
       "      <td>0</td>\n",
       "      <td>Validación</td>\n",
       "      <td>6.448891</td>\n",
       "    </tr>\n",
       "    <tr>\n",
       "      <th>2</th>\n",
       "      <td>1</td>\n",
       "      <td>Entrenamiento</td>\n",
       "      <td>6.448891</td>\n",
       "    </tr>\n",
       "    <tr>\n",
       "      <th>3</th>\n",
       "      <td>1</td>\n",
       "      <td>Validación</td>\n",
       "      <td>6.448891</td>\n",
       "    </tr>\n",
       "    <tr>\n",
       "      <th>4</th>\n",
       "      <td>2</td>\n",
       "      <td>Entrenamiento</td>\n",
       "      <td>6.448891</td>\n",
       "    </tr>\n",
       "    <tr>\n",
       "      <th>5</th>\n",
       "      <td>2</td>\n",
       "      <td>Validación</td>\n",
       "      <td>6.448891</td>\n",
       "    </tr>\n",
       "  </tbody>\n",
       "</table>\n",
       "</div>"
      ],
      "text/plain": [
       "   Epoch       Conjunto      Loss\n",
       "0      0  Entrenamiento  6.448891\n",
       "1      0     Validación  6.448891\n",
       "2      1  Entrenamiento  6.448891\n",
       "3      1     Validación  6.448891\n",
       "4      2  Entrenamiento  6.448891\n",
       "5      2     Validación  6.448891"
      ]
     },
     "execution_count": 39,
     "metadata": {},
     "output_type": "execute_result"
    }
   ],
   "source": [
    "# data"
   ]
  },
  {
   "cell_type": "code",
   "execution_count": 40,
   "id": "e5d525b0",
   "metadata": {},
   "outputs": [
    {
     "data": {
      "image/png": "[encoded data removed]",
      "text/plain": [
       "<Figure size 1500x500 with 2 Axes>"
      ]
     },
     "metadata": {},
     "output_type": "display_data"
    }
   ],
   "source": [
    "# f, ax = plt.subplots(1,2, figsize=(15,5))\n",
    "\n",
    "# data.loc[data.Conjunto=='Entrenamiento', ['Epoch', 'Loss']].plot(x='Epoch', y='Loss', ax=ax[0],\n",
    "#                                      kind='line',marker='o',title='Epoca vs Loss \\nEntrenamiento')\n",
    "# data.loc[data.Conjunto=='Validación', ['Epoch', 'Loss']].plot(x='Epoch', y='Loss', ax=ax[1],\n",
    "#                                                         kind='line',marker='o',title='Epoca vs Loss \\nValidación')\n",
    "# plt.show()"
   ]
  },
  {
   "cell_type": "markdown",
   "id": "d04240ad",
   "metadata": {},
   "source": [
    "La anterior, fue realizada a manera de prueba para ir afinando los hiper parametros, cabe resaltar que en este punto se procesaron los conjuntos de datos por separado, esto se modifico para las pruebas siguientes.\n",
    "\n",
    "\n",
    "# Prueba 2:"
   ]
  },
  {
   "cell_type": "code",
   "execution_count": null,
   "id": "128eab67",
   "metadata": {},
   "outputs": [],
   "source": [
    "EPOCHS = 5\n",
    "FILTERS_COUNT = [100,100,100] #num_filters\n",
    "FILTERS_LENGTH = [2, 3, 4] #filter_sizes\n",
    "\n",
    "pad_sequences = PadSequences(min_length=max(FILTERS_LENGTH))\n",
    "\n",
    "train_loader = DataLoader(train_ds, batch_size=300, shuffle=True,\n",
    "                          collate_fn=pad_sequences, drop_last=False, num_workers=12)\n",
    "\n",
    "dev_loader = DataLoader(dev_ds, batch_size=300, shuffle=True,\n",
    "                         collate_fn=pad_sequences, drop_last=False, num_workers=12)\n",
    "\n",
    "test_loader = DataLoader(test_ds, batch_size=300, shuffle=False,\n",
    "                         collate_fn=pad_sequences, drop_last=False, num_workers=12)"
   ]
  },
  {
   "cell_type": "code",
   "execution_count": 28,
   "id": "955eba01",
   "metadata": {},
   "outputs": [
    {
     "data": {
      "application/vnd.jupyter.widget-view+json": {
       "model_id": "d3f2ab34c2134e8782d9000864136613",
       "version_major": 2,
       "version_minor": 0
      },
      "text/plain": [
       "  0%|          | 0/5 [00:00<?, ?it/s]"
      ]
     },
     "metadata": {},
     "output_type": "display_data"
    },
    {
     "data": {
      "application/vnd.jupyter.widget-view+json": {
       "model_id": "b7df958248f640188894f81dbe9d8ca8",
       "version_major": 2,
       "version_minor": 0
      },
      "text/plain": [
       "  0%|          | 0/16318 [00:00<?, ?it/s]"
      ]
     },
     "metadata": {},
     "output_type": "display_data"
    },
    {
     "name": "stdout",
     "output_type": "stream",
     "text": [
      "Epoca: 0\n",
      "\n",
      "Perdida-loss: 6.396692449576949\n"
     ]
    },
    {
     "data": {
      "application/vnd.jupyter.widget-view+json": {
       "model_id": "479e752c97f0449eb02aafe77c6c89bf",
       "version_major": 2,
       "version_minor": 0
      },
      "text/plain": [
       "  0%|          | 0/213 [00:00<?, ?it/s]"
      ]
     },
     "metadata": {},
     "output_type": "display_data"
    },
    {
     "name": "stdout",
     "output_type": "stream",
     "text": [
      "Perdida-loss/validacion: 6.411257790847563\n",
      "val_avp: 0.03957615676026831\n"
     ]
    },
    {
     "data": {
      "application/vnd.jupyter.widget-view+json": {
       "model_id": "3a321306947342368a88be2df17d175c",
       "version_major": 2,
       "version_minor": 0
      },
      "text/plain": [
       "  0%|          | 0/16318 [00:00<?, ?it/s]"
      ]
     },
     "metadata": {},
     "output_type": "display_data"
    },
    {
     "name": "stdout",
     "output_type": "stream",
     "text": [
      "Epoca: 1\n",
      "\n",
      "Perdida-loss: 6.397661059901241\n"
     ]
    },
    {
     "data": {
      "application/vnd.jupyter.widget-view+json": {
       "model_id": "3a35d594be36443aa42a5e81bb56b4d5",
       "version_major": 2,
       "version_minor": 0
      },
      "text/plain": [
       "  0%|          | 0/213 [00:00<?, ?it/s]"
      ]
     },
     "metadata": {},
     "output_type": "display_data"
    },
    {
     "name": "stdout",
     "output_type": "stream",
     "text": [
      "Perdida-loss/validacion: 6.414051026805466\n",
      "val_avp: 0.03692819676595775\n"
     ]
    },
    {
     "data": {
      "application/vnd.jupyter.widget-view+json": {
       "model_id": "93af020eea7443fe96bac33e29d81cca",
       "version_major": 2,
       "version_minor": 0
      },
      "text/plain": [
       "  0%|          | 0/16318 [00:00<?, ?it/s]"
      ]
     },
     "metadata": {},
     "output_type": "display_data"
    },
    {
     "name": "stdout",
     "output_type": "stream",
     "text": [
      "Epoca: 2\n",
      "\n",
      "Perdida-loss: 6.394919151417661\n"
     ]
    },
    {
     "data": {
      "application/vnd.jupyter.widget-view+json": {
       "model_id": "e6f7ad568f0d4792ba253076748ae6ff",
       "version_major": 2,
       "version_minor": 0
      },
      "text/plain": [
       "  0%|          | 0/213 [00:00<?, ?it/s]"
      ]
     },
     "metadata": {},
     "output_type": "display_data"
    },
    {
     "name": "stdout",
     "output_type": "stream",
     "text": [
      "Perdida-loss/validacion: 6.408948193133717\n",
      "val_avp: 0.04195875495512363\n"
     ]
    },
    {
     "data": {
      "application/vnd.jupyter.widget-view+json": {
       "model_id": "ecf50d5c1e4846498764f668a3a64b5c",
       "version_major": 2,
       "version_minor": 0
      },
      "text/plain": [
       "  0%|          | 0/16318 [00:00<?, ?it/s]"
      ]
     },
     "metadata": {},
     "output_type": "display_data"
    },
    {
     "name": "stdout",
     "output_type": "stream",
     "text": [
      "Epoca: 3\n",
      "\n",
      "Perdida-loss: 6.393620598446229\n"
     ]
    },
    {
     "data": {
      "application/vnd.jupyter.widget-view+json": {
       "model_id": "bf5172bd73614987b23954f754151786",
       "version_major": 2,
       "version_minor": 0
      },
      "text/plain": [
       "  0%|          | 0/213 [00:00<?, ?it/s]"
      ]
     },
     "metadata": {},
     "output_type": "display_data"
    },
    {
     "name": "stdout",
     "output_type": "stream",
     "text": [
      "Perdida-loss/validacion: 6.41017541079454\n",
      "val_avp: 0.040769906765774216\n"
     ]
    },
    {
     "data": {
      "application/vnd.jupyter.widget-view+json": {
       "model_id": "9754ab914efa48b8b9c69032b0e447b0",
       "version_major": 2,
       "version_minor": 0
      },
      "text/plain": [
       "  0%|          | 0/16318 [00:00<?, ?it/s]"
      ]
     },
     "metadata": {},
     "output_type": "display_data"
    },
    {
     "name": "stdout",
     "output_type": "stream",
     "text": [
      "Epoca: 4\n",
      "\n",
      "Perdida-loss: 6.392230534118127\n"
     ]
    },
    {
     "data": {
      "application/vnd.jupyter.widget-view+json": {
       "model_id": "01b9be30529b4f7a9db51ac4a1ae31ab",
       "version_major": 2,
       "version_minor": 0
      },
      "text/plain": [
       "  0%|          | 0/213 [00:00<?, ?it/s]"
      ]
     },
     "metadata": {},
     "output_type": "display_data"
    },
    {
     "name": "stdout",
     "output_type": "stream",
     "text": [
      "Perdida-loss/validacion: 6.407981366618698\n",
      "val_avp: 0.04290172246370668\n"
     ]
    }
   ],
   "source": [
    "from sklearn import metrics\n",
    "\n",
    "mlflow.set_experiment(\"Experimento_3_CNN\")\n",
    "\n",
    "with mlflow.start_run():\n",
    "    mlflow.log_param(\"model_name\", \"CNN\")\n",
    "    mlflow.log_param(\"freeze_embedding\", True)\n",
    "    mlflow.log_params({\n",
    "        \n",
    "        \"filters_count\": FILTERS_COUNT,\n",
    "        \"filters_length\": FILTERS_LENGTH,\n",
    "#         \"fc_size\": 100\n",
    "    })\n",
    "    \n",
    "    cnn = CNN(\"./data/SBW-vectors-300-min5.txt.bz2\",\n",
    "              preprocess_train.dictionary, \n",
    "              vector_size=300,\n",
    "              freeze_embedings=True,\n",
    "              num_filters=[100,100,100],\n",
    "              filter_sizes=[2, 3, 4],\n",
    "              num_classes=632,\n",
    "              dropout=0.3)\n",
    "    \n",
    "    cnn.to(device)\n",
    "    \n",
    "    loss_function = nn.CrossEntropyLoss()\n",
    "    optimizer = optim.Adam(cnn.parameters(), lr=1e-4, weight_decay=1e-5)\n",
    "    \n",
    "    historyCNN2 = {'val_loss': [],\n",
    "               'train_loss': [],\n",
    "               'total_accuracy': []\n",
    "              }       \n",
    "    \n",
    "    \n",
    "    for epoch in trange(EPOCHS):\n",
    "        cnn.train()\n",
    "        running_loss = []\n",
    "        \n",
    "        for idx, batch in enumerate(tqdm(train_loader)):\n",
    "            optimizer.zero_grad()\n",
    "            inputs = batch[\"data\"].to(device)\n",
    "            labels = batch[\"target\"].squeeze().long()\n",
    "            labels = labels.to(device)\n",
    "            \n",
    "            \n",
    "            outputs = cnn(inputs)\n",
    "\n",
    "            loss_value = loss_function(outputs, labels)\n",
    "\n",
    "            loss_value.backward()\n",
    "            optimizer.step()\n",
    "            \n",
    "            running_loss.append(loss_value.item())         \n",
    "        \n",
    "        \n",
    "        longitud_vec = len(running_loss)\n",
    "        sumatoria_vec = sum(running_loss)\n",
    "            \n",
    "        mlflow.log_metric(\"train_loss\", sumatoria_vec/longitud_vec, epoch)\n",
    "        historyCNN2['train_loss'].append((sumatoria_vec/longitud_vec, epoch))\n",
    "        \n",
    "        # Controlamos las metricas dentro de las epocas\n",
    "        print(f'Epoca: {epoch}')\n",
    "        print(f'\\nPerdida-loss: {sumatoria_vec/longitud_vec}')\n",
    "        \n",
    "        cnn.eval()\n",
    "        \n",
    "        running_loss_dev = []\n",
    "        targets = []\n",
    "        predictions = []\n",
    "        \n",
    "        for i, data in enumerate(tqdm(dev_loader)):\n",
    "            \n",
    "            inputs_v = data[\"data\"].to(device)\n",
    "            labels_v = data[\"target\"].squeeze().long()\n",
    "            labels_v = labels_v.to(device)            \n",
    "            output = cnn(inputs_v)\n",
    "            \n",
    "            running_loss_dev.append(loss_function(output, labels_v).item())\n",
    "            _, predicted = torch.max(output.data, 1)\n",
    "            \n",
    "            targets.extend(labels_v.cpu().numpy())\n",
    "            predictions.extend(predicted.cpu().numpy())\n",
    "            \n",
    "        mlflow.log_metric(\"val_loss\", sum(running_loss_dev) / len(running_loss_dev), epoch)\n",
    "        mlflow.log_metric(\"total_accuracy\", balanced_accuracy_score(targets, predictions), epoch)\n",
    "        \n",
    "        historyCNN2['val_loss'].append((sum(running_loss_dev) / len(running_loss_dev), epoch))\n",
    "        historyCNN2['total_accuracy'].append((balanced_accuracy_score(targets, predictions), epoch))\n",
    "       \n",
    "        print(f'Perdida-loss/validacion: {sum(running_loss_dev)/len(running_loss_dev)}')\n",
    "        print(f'total_accuracy: {balanced_accuracy_score(targets, predictions)}')\n",
    "\n",
    "                "
   ]
  },
  {
   "cell_type": "code",
   "execution_count": 29,
   "id": "5bbe26f0",
   "metadata": {},
   "outputs": [
    {
     "name": "stdout",
     "output_type": "stream",
     "text": [
      "CNN(\n",
      "  (embeddings): Embedding(50002, 300, padding_idx=0)\n",
      "  (convs): ModuleList(\n",
      "    (0): Conv1d(300, 100, kernel_size=(2,), stride=(1,))\n",
      "    (1): Conv1d(300, 100, kernel_size=(3,), stride=(1,))\n",
      "    (2): Conv1d(300, 100, kernel_size=(4,), stride=(1,))\n",
      "  )\n",
      "  (fc1): Linear(in_features=300, out_features=150, bias=True)\n",
      "  (fc2): Linear(in_features=150, out_features=632, bias=True)\n",
      "  (dropout): Dropout(p=0.3, inplace=False)\n",
      "  (output_layer): Linear(in_features=632, out_features=632, bias=True)\n",
      ")\n"
     ]
    }
   ],
   "source": [
    "print(cnn)\n"
   ]
  },
  {
   "cell_type": "code",
   "execution_count": 30,
   "id": "dbecaa7e",
   "metadata": {},
   "outputs": [
    {
     "data": {
      "text/plain": [
       "{'val_loss': [(6.411257790847563, 0),\n",
       "  (6.414051026805466, 1),\n",
       "  (6.408948193133717, 2),\n",
       "  (6.41017541079454, 3),\n",
       "  (6.407981366618698, 4)],\n",
       " 'train_loss': [(6.396692449576949, 0),\n",
       "  (6.397661059901241, 1),\n",
       "  (6.394919151417661, 2),\n",
       "  (6.393620598446229, 3),\n",
       "  (6.392230534118127, 4)],\n",
       " 'total_accuracy': [(0.03957615676026831, 0),\n",
       "  (0.03692819676595775, 1),\n",
       "  (0.04195875495512363, 2),\n",
       "  (0.040769906765774216, 3),\n",
       "  (0.04290172246370668, 4)]}"
      ]
     },
     "execution_count": 30,
     "metadata": {},
     "output_type": "execute_result"
    }
   ],
   "source": [
    "historyCNN2"
   ]
  },
  {
   "cell_type": "code",
   "execution_count": 31,
   "id": "2e4a655d",
   "metadata": {},
   "outputs": [
    {
     "data": {
      "text/html": [
       "<div>\n",
       "<style scoped>\n",
       "    .dataframe tbody tr th:only-of-type {\n",
       "        vertical-align: middle;\n",
       "    }\n",
       "\n",
       "    .dataframe tbody tr th {\n",
       "        vertical-align: top;\n",
       "    }\n",
       "\n",
       "    .dataframe thead th {\n",
       "        text-align: right;\n",
       "    }\n",
       "</style>\n",
       "<table border=\"1\" class=\"dataframe\">\n",
       "  <thead>\n",
       "    <tr style=\"text-align: right;\">\n",
       "      <th></th>\n",
       "      <th>run_id</th>\n",
       "      <th>experiment_id</th>\n",
       "      <th>status</th>\n",
       "      <th>artifact_uri</th>\n",
       "      <th>start_time</th>\n",
       "      <th>end_time</th>\n",
       "      <th>metrics.val_avp</th>\n",
       "      <th>metrics.train_loss</th>\n",
       "      <th>metrics.val_loss</th>\n",
       "      <th>params.filters_length</th>\n",
       "      <th>params.filters_count</th>\n",
       "      <th>params.model_name</th>\n",
       "      <th>params.freeze_embedding</th>\n",
       "      <th>params.fc_size</th>\n",
       "      <th>tags.mlflow.runName</th>\n",
       "      <th>tags.mlflow.source.type</th>\n",
       "      <th>tags.mlflow.source.name</th>\n",
       "      <th>tags.mlflow.user</th>\n",
       "    </tr>\n",
       "  </thead>\n",
       "  <tbody>\n",
       "    <tr>\n",
       "      <th>0</th>\n",
       "      <td>9d03b256e3124fceaea97c8a9dd3445f</td>\n",
       "      <td>6</td>\n",
       "      <td>FINISHED</td>\n",
       "      <td>file:///users/dfonnegra/mlruns/6/9d03b256e3124...</td>\n",
       "      <td>2022-11-11 12:28:06.404000+00:00</td>\n",
       "      <td>2022-11-11 12:56:36.201000+00:00</td>\n",
       "      <td>0.042902</td>\n",
       "      <td>6.392231</td>\n",
       "      <td>6.407981</td>\n",
       "      <td>[2, 3, 4]</td>\n",
       "      <td>[100, 100, 100]</td>\n",
       "      <td>CNN</td>\n",
       "      <td>True</td>\n",
       "      <td>None</td>\n",
       "      <td>zealous-auk-897</td>\n",
       "      <td>LOCAL</td>\n",
       "      <td>/users/dfonnegra/miniconda3/envs/deeplearning/...</td>\n",
       "      <td>dfonnegra</td>\n",
       "    </tr>\n",
       "    <tr>\n",
       "      <th>4</th>\n",
       "      <td>c84c315fc117455cb7b8f535696b7406</td>\n",
       "      <td>6</td>\n",
       "      <td>FINISHED</td>\n",
       "      <td>file:///users/dfonnegra/mlruns/6/c84c315fc1174...</td>\n",
       "      <td>2022-11-11 00:06:46.177000+00:00</td>\n",
       "      <td>2022-11-11 00:48:57.387000+00:00</td>\n",
       "      <td>0.001582</td>\n",
       "      <td>6.448891</td>\n",
       "      <td>6.448891</td>\n",
       "      <td>[3, 4, 5]</td>\n",
       "      <td>[100, 100, 100]</td>\n",
       "      <td>CNN</td>\n",
       "      <td>True</td>\n",
       "      <td>None</td>\n",
       "      <td>funny-bass-207</td>\n",
       "      <td>LOCAL</td>\n",
       "      <td>/users/dfonnegra/miniconda3/envs/deeplearning/...</td>\n",
       "      <td>dfonnegra</td>\n",
       "    </tr>\n",
       "    <tr>\n",
       "      <th>8</th>\n",
       "      <td>535d783cf93d4ba98248e909dd6d5d82</td>\n",
       "      <td>6</td>\n",
       "      <td>FINISHED</td>\n",
       "      <td>file:///users/dfonnegra/mlruns/6/535d783cf93d4...</td>\n",
       "      <td>2022-11-10 22:50:59.404000+00:00</td>\n",
       "      <td>2022-11-10 23:17:30.121000+00:00</td>\n",
       "      <td>0.001582</td>\n",
       "      <td>6.448891</td>\n",
       "      <td>6.448891</td>\n",
       "      <td>[3, 4, 5]</td>\n",
       "      <td>[100, 100, 100]</td>\n",
       "      <td>CNN</td>\n",
       "      <td>True</td>\n",
       "      <td>None</td>\n",
       "      <td>suave-hare-243</td>\n",
       "      <td>LOCAL</td>\n",
       "      <td>/users/dfonnegra/miniconda3/envs/deeplearning/...</td>\n",
       "      <td>dfonnegra</td>\n",
       "    </tr>\n",
       "    <tr>\n",
       "      <th>9</th>\n",
       "      <td>00b3c710c87144d38f392f82ea225bf4</td>\n",
       "      <td>6</td>\n",
       "      <td>FINISHED</td>\n",
       "      <td>file:///users/dfonnegra/mlruns/6/00b3c710c8714...</td>\n",
       "      <td>2022-11-10 22:00:33.990000+00:00</td>\n",
       "      <td>2022-11-10 22:50:04.123000+00:00</td>\n",
       "      <td>0.001582</td>\n",
       "      <td>6.448891</td>\n",
       "      <td>6.448891</td>\n",
       "      <td>[3, 4, 5]</td>\n",
       "      <td>[100, 100, 100]</td>\n",
       "      <td>CNN</td>\n",
       "      <td>True</td>\n",
       "      <td>None</td>\n",
       "      <td>polite-skunk-12</td>\n",
       "      <td>LOCAL</td>\n",
       "      <td>/users/dfonnegra/miniconda3/envs/deeplearning/...</td>\n",
       "      <td>dfonnegra</td>\n",
       "    </tr>\n",
       "    <tr>\n",
       "      <th>29</th>\n",
       "      <td>8235a004247f42d4910dc59b6b7500a0</td>\n",
       "      <td>6</td>\n",
       "      <td>FINISHED</td>\n",
       "      <td>file:///users/dfonnegra/mlruns/6/8235a004247f4...</td>\n",
       "      <td>2022-11-02 22:48:33.375000+00:00</td>\n",
       "      <td>2022-11-03 00:04:52.868000+00:00</td>\n",
       "      <td>0.001582</td>\n",
       "      <td>0.000000</td>\n",
       "      <td>0.000000</td>\n",
       "      <td>[2, 3, 4]</td>\n",
       "      <td>100</td>\n",
       "      <td>CNN</td>\n",
       "      <td>True</td>\n",
       "      <td>100</td>\n",
       "      <td>fearless-moose-556</td>\n",
       "      <td>LOCAL</td>\n",
       "      <td>/users/dfonnegra/miniconda3/envs/deeplearning/...</td>\n",
       "      <td>dfonnegra</td>\n",
       "    </tr>\n",
       "    <tr>\n",
       "      <th>36</th>\n",
       "      <td>771ceaed6535429b97cc99d5e00d71c7</td>\n",
       "      <td>6</td>\n",
       "      <td>FINISHED</td>\n",
       "      <td>file:///users/dfonnegra/mlruns/6/771ceaed65354...</td>\n",
       "      <td>2022-11-02 18:07:46.090000+00:00</td>\n",
       "      <td>2022-11-02 19:38:39.829000+00:00</td>\n",
       "      <td>0.001582</td>\n",
       "      <td>-31225.488365</td>\n",
       "      <td>-31225.731217</td>\n",
       "      <td>[2, 3, 4]</td>\n",
       "      <td>100</td>\n",
       "      <td>CNN</td>\n",
       "      <td>True</td>\n",
       "      <td>100</td>\n",
       "      <td>carefree-hen-512</td>\n",
       "      <td>LOCAL</td>\n",
       "      <td>/users/dfonnegra/miniconda3/envs/deeplearning/...</td>\n",
       "      <td>dfonnegra</td>\n",
       "    </tr>\n",
       "    <tr>\n",
       "      <th>42</th>\n",
       "      <td>b981782399394982ad4221e396292ed9</td>\n",
       "      <td>6</td>\n",
       "      <td>FINISHED</td>\n",
       "      <td>file:///users/dfonnegra/mlruns/6/b981782399394...</td>\n",
       "      <td>2022-11-02 16:50:43.381000+00:00</td>\n",
       "      <td>2022-11-02 17:31:38.797000+00:00</td>\n",
       "      <td>0.001582</td>\n",
       "      <td>-31225.233430</td>\n",
       "      <td>-31225.671243</td>\n",
       "      <td>[2, 3, 4]</td>\n",
       "      <td>100</td>\n",
       "      <td>CNN</td>\n",
       "      <td>True</td>\n",
       "      <td>50</td>\n",
       "      <td>awesome-slug-429</td>\n",
       "      <td>LOCAL</td>\n",
       "      <td>/users/dfonnegra/miniconda3/envs/deeplearning/...</td>\n",
       "      <td>dfonnegra</td>\n",
       "    </tr>\n",
       "  </tbody>\n",
       "</table>\n",
       "</div>"
      ],
      "text/plain": [
       "                              run_id experiment_id    status  \\\n",
       "0   9d03b256e3124fceaea97c8a9dd3445f             6  FINISHED   \n",
       "4   c84c315fc117455cb7b8f535696b7406             6  FINISHED   \n",
       "8   535d783cf93d4ba98248e909dd6d5d82             6  FINISHED   \n",
       "9   00b3c710c87144d38f392f82ea225bf4             6  FINISHED   \n",
       "29  8235a004247f42d4910dc59b6b7500a0             6  FINISHED   \n",
       "36  771ceaed6535429b97cc99d5e00d71c7             6  FINISHED   \n",
       "42  b981782399394982ad4221e396292ed9             6  FINISHED   \n",
       "\n",
       "                                         artifact_uri  \\\n",
       "0   file:///users/dfonnegra/mlruns/6/9d03b256e3124...   \n",
       "4   file:///users/dfonnegra/mlruns/6/c84c315fc1174...   \n",
       "8   file:///users/dfonnegra/mlruns/6/535d783cf93d4...   \n",
       "9   file:///users/dfonnegra/mlruns/6/00b3c710c8714...   \n",
       "29  file:///users/dfonnegra/mlruns/6/8235a004247f4...   \n",
       "36  file:///users/dfonnegra/mlruns/6/771ceaed65354...   \n",
       "42  file:///users/dfonnegra/mlruns/6/b981782399394...   \n",
       "\n",
       "                         start_time                         end_time  \\\n",
       "0  2022-11-11 12:28:06.404000+00:00 2022-11-11 12:56:36.201000+00:00   \n",
       "4  2022-11-11 00:06:46.177000+00:00 2022-11-11 00:48:57.387000+00:00   \n",
       "8  2022-11-10 22:50:59.404000+00:00 2022-11-10 23:17:30.121000+00:00   \n",
       "9  2022-11-10 22:00:33.990000+00:00 2022-11-10 22:50:04.123000+00:00   \n",
       "29 2022-11-02 22:48:33.375000+00:00 2022-11-03 00:04:52.868000+00:00   \n",
       "36 2022-11-02 18:07:46.090000+00:00 2022-11-02 19:38:39.829000+00:00   \n",
       "42 2022-11-02 16:50:43.381000+00:00 2022-11-02 17:31:38.797000+00:00   \n",
       "\n",
       "    metrics.val_avp  metrics.train_loss  metrics.val_loss  \\\n",
       "0          0.042902            6.392231          6.407981   \n",
       "4          0.001582            6.448891          6.448891   \n",
       "8          0.001582            6.448891          6.448891   \n",
       "9          0.001582            6.448891          6.448891   \n",
       "29         0.001582            0.000000          0.000000   \n",
       "36         0.001582       -31225.488365     -31225.731217   \n",
       "42         0.001582       -31225.233430     -31225.671243   \n",
       "\n",
       "   params.filters_length params.filters_count params.model_name  \\\n",
       "0              [2, 3, 4]      [100, 100, 100]               CNN   \n",
       "4              [3, 4, 5]      [100, 100, 100]               CNN   \n",
       "8              [3, 4, 5]      [100, 100, 100]               CNN   \n",
       "9              [3, 4, 5]      [100, 100, 100]               CNN   \n",
       "29             [2, 3, 4]                  100               CNN   \n",
       "36             [2, 3, 4]                  100               CNN   \n",
       "42             [2, 3, 4]                  100               CNN   \n",
       "\n",
       "   params.freeze_embedding params.fc_size tags.mlflow.runName  \\\n",
       "0                     True           None     zealous-auk-897   \n",
       "4                     True           None      funny-bass-207   \n",
       "8                     True           None      suave-hare-243   \n",
       "9                     True           None     polite-skunk-12   \n",
       "29                    True            100  fearless-moose-556   \n",
       "36                    True            100    carefree-hen-512   \n",
       "42                    True             50    awesome-slug-429   \n",
       "\n",
       "   tags.mlflow.source.type                            tags.mlflow.source.name  \\\n",
       "0                    LOCAL  /users/dfonnegra/miniconda3/envs/deeplearning/...   \n",
       "4                    LOCAL  /users/dfonnegra/miniconda3/envs/deeplearning/...   \n",
       "8                    LOCAL  /users/dfonnegra/miniconda3/envs/deeplearning/...   \n",
       "9                    LOCAL  /users/dfonnegra/miniconda3/envs/deeplearning/...   \n",
       "29                   LOCAL  /users/dfonnegra/miniconda3/envs/deeplearning/...   \n",
       "36                   LOCAL  /users/dfonnegra/miniconda3/envs/deeplearning/...   \n",
       "42                   LOCAL  /users/dfonnegra/miniconda3/envs/deeplearning/...   \n",
       "\n",
       "   tags.mlflow.user  \n",
       "0         dfonnegra  \n",
       "4         dfonnegra  \n",
       "8         dfonnegra  \n",
       "9         dfonnegra  \n",
       "29        dfonnegra  \n",
       "36        dfonnegra  \n",
       "42        dfonnegra  "
      ]
     },
     "execution_count": 31,
     "metadata": {},
     "output_type": "execute_result"
    }
   ],
   "source": [
    "\n",
    "mlflow.search_runs()\n",
    "runs = mlflow.search_runs()\n",
    "runs[runs.status == \"FINISHED\"]"
   ]
  },
  {
   "cell_type": "code",
   "execution_count": 32,
   "id": "7c3f9c68",
   "metadata": {},
   "outputs": [
    {
     "name": "stdout",
     "output_type": "stream",
     "text": [
      "(0, 'Entrenamiento', 6.396692449576949)\n",
      "(0, 'Validación', 6.411257790847563)\n",
      "(1, 'Entrenamiento', 6.397661059901241)\n",
      "(1, 'Validación', 6.414051026805466)\n",
      "(2, 'Entrenamiento', 6.394919151417661)\n",
      "(2, 'Validación', 6.408948193133717)\n",
      "(3, 'Entrenamiento', 6.393620598446229)\n",
      "(3, 'Validación', 6.41017541079454)\n",
      "(4, 'Entrenamiento', 6.392230534118127)\n",
      "(4, 'Validación', 6.407981366618698)\n"
     ]
    }
   ],
   "source": [
    "data = []\n",
    "for epoch, (train_loss, val_loss) in enumerate(zip(\n",
    "        historyCNN2['train_loss'], historyCNN2['val_loss'])):\n",
    "    print((epoch, 'Entrenamiento', train_loss[0]))\n",
    "    print((epoch, 'Validación', val_loss[0]))\n",
    "    data.append((epoch, 'Entrenamiento', train_loss[0]))\n",
    "    data.append((epoch, 'Validación', val_loss[0]))\n",
    "data = pd.DataFrame(data=data, columns=['Epoch', 'Conjunto', 'Loss'])"
   ]
  },
  {
   "cell_type": "code",
   "execution_count": 33,
   "id": "b9c73e14",
   "metadata": {},
   "outputs": [
    {
     "data": {
      "image/png": "[encoded data removed]",
      "text/plain": [
       "<Figure size 1500x500 with 2 Axes>"
      ]
     },
     "metadata": {},
     "output_type": "display_data"
    }
   ],
   "source": [
    "f, ax = plt.subplots(1,2, figsize=(15,5))\n",
    "\n",
    "data.loc[data.Conjunto=='Entrenamiento', ['Epoch', 'Loss']].plot(x='Epoch', y='Loss', ax=ax[0],\n",
    "                                     kind='line',marker='o',title='Epoca vs Loss \\nEntrenamiento')\n",
    "data.loc[data.Conjunto=='Validación', ['Epoch', 'Loss']].plot(x='Epoch', y='Loss', ax=ax[1],\n",
    "                                                        kind='line',marker='o',title='Epoca vs Loss \\nValidación')\n",
    "plt.show()"
   ]
  },
  {
   "cell_type": "code",
   "execution_count": 35,
   "id": "f02e0318",
   "metadata": {},
   "outputs": [
    {
     "data": {
      "image/png": "[encoded data removed]",
      "text/plain": [
       "<Figure size 640x480 with 1 Axes>"
      ]
     },
     "metadata": {},
     "output_type": "display_data"
    }
   ],
   "source": [
    "data = []\n",
    "for total_accuracy,epoch in historyCNN2['total_accuracy']:\n",
    "    data.append((epoch,'total_accuracy',total_accuracy))\n",
    "data = pd.DataFrame(data=data, columns=['Epoch', 'Conjunto', 'total_accuracy'])\n",
    "sns.pointplot(\n",
    "    data=data, x='Epoch', y='total_accuracy', hue='Conjunto', palette='husl')\n",
    "plt.show()"
   ]
  },
  {
   "cell_type": "markdown",
   "id": "3d2a94fc",
   "metadata": {},
   "source": [
    "La anterior muestra que el modelo propuesto muestra que la red esta aprendiendo aunque lo hace de forma lenta, es por esto que se buscara realizar una prueba con un mayor numero de epocas para asi ver tanto el comportamiento de la loss vs epocas como de la accuracy."
   ]
  },
  {
   "cell_type": "markdown",
   "id": "44e7a8fc",
   "metadata": {},
   "source": [
    "# Prueba 3\n",
    "\n",
    "La siguiente no presento registro de ejecucion (problemas con nabu) :(\n",
    "Sin embargo mientras ejecutamos vimos que presentaba una mejora en las metricas y una tendencia similar en las curvas de loss vs epocas, es por ello que dejamos evidencia de lo que intentamos desarrollar... :)"
   ]
  },
  {
   "cell_type": "code",
   "execution_count": null,
   "id": "242aeecc",
   "metadata": {},
   "outputs": [],
   "source": [
    "EPOCHS = 30\n",
    "FILTERS_COUNT = [100,100,100] #num_filters\n",
    "FILTERS_LENGTH = [2, 3, 4] #filter_sizes\n",
    "\n",
    "pad_sequences = PadSequences(min_length=max(FILTERS_LENGTH))\n",
    "\n",
    "train_loader = DataLoader(train_ds, batch_size=300, shuffle=True,\n",
    "                          collate_fn=pad_sequences, drop_last=False, num_workers=12)\n",
    "\n",
    "dev_loader = DataLoader(dev_ds, batch_size=300, shuffle=True,\n",
    "                         collate_fn=pad_sequences, drop_last=False, num_workers=12)\n",
    "\n",
    "test_loader = DataLoader(test_ds, batch_size=300, shuffle=False,\n",
    "                         collate_fn=pad_sequences, drop_last=False, num_workers=12)"
   ]
  },
  {
   "cell_type": "code",
   "execution_count": null,
   "id": "b6d9d12a",
   "metadata": {},
   "outputs": [],
   "source": [
    "from sklearn import metrics\n",
    "\n",
    "mlflow.set_experiment(\"Experimento_3_CNN\")\n",
    "\n",
    "with mlflow.start_run():\n",
    "    mlflow.log_param(\"model_name\", \"CNN\")\n",
    "    mlflow.log_param(\"freeze_embedding\", True)\n",
    "    mlflow.log_params({\n",
    "        \n",
    "        \"filters_count\": FILTERS_COUNT,\n",
    "        \"filters_length\": FILTERS_LENGTH,\n",
    "#         \"fc_size\": 100\n",
    "    })\n",
    "    \n",
    "    cnn = CNN(\"./data/SBW-vectors-300-min5.txt.bz2\",\n",
    "              preprocess_train.dictionary, \n",
    "              vector_size=300,\n",
    "              freeze_embedings=True,\n",
    "              num_filters=[100,100,100],\n",
    "              filter_sizes=[2, 3, 4],\n",
    "              num_classes=632,\n",
    "              dropout=0.3)\n",
    "    \n",
    "    cnn.to(device)\n",
    "    \n",
    "    loss_function = nn.CrossEntropyLoss()\n",
    "    optimizer = optim.Adam(cnn.parameters(), lr=1e-5, weight_decay=1e-5)\n",
    "    \n",
    "    historyCNN3 = {'val_loss': [],\n",
    "               'train_loss': [],\n",
    "               'total_accuracy': []\n",
    "              }       \n",
    "    \n",
    "    \n",
    "    for epoch in trange(EPOCHS):\n",
    "        cnn.train()\n",
    "        running_loss = []\n",
    "        \n",
    "        for idx, batch in enumerate(tqdm(train_loader)):\n",
    "            optimizer.zero_grad()\n",
    "            inputs = batch[\"data\"].to(device)\n",
    "            labels = batch[\"target\"].squeeze().long()\n",
    "            labels = labels.to(device)\n",
    "            \n",
    "            \n",
    "            outputs = cnn(inputs)\n",
    "\n",
    "            loss_value = loss_function(outputs, labels)\n",
    "\n",
    "            loss_value.backward()\n",
    "            optimizer.step()\n",
    "            \n",
    "            running_loss.append(loss_value.item())         \n",
    "        \n",
    "        \n",
    "        longitud_vec = len(running_loss)\n",
    "        sumatoria_vec = sum(running_loss)\n",
    "            \n",
    "        mlflow.log_metric(\"train_loss\", sumatoria_vec/longitud_vec, epoch)\n",
    "        historyCNN3['train_loss'].append((sumatoria_vec/longitud_vec, epoch))\n",
    "        \n",
    "        # Controlamos las metricas dentro de las epocas\n",
    "        print(f'Epoca: {epoch}')\n",
    "        print(f'\\nPerdida-loss: {sumatoria_vec/longitud_vec}')\n",
    "        \n",
    "        cnn.eval()\n",
    "        \n",
    "        running_loss_dev = []\n",
    "        targets = []\n",
    "        predictions = []\n",
    "        \n",
    "        for i, data in enumerate(tqdm(dev_loader)):\n",
    "            \n",
    "            inputs_v = data[\"data\"].to(device)\n",
    "            labels_v = data[\"target\"].squeeze().long()\n",
    "            labels_v = labels_v.to(device)            \n",
    "            output = cnn(inputs_v)\n",
    "            \n",
    "            running_loss_dev.append(loss_function(output, labels_v).item())\n",
    "            _, predicted = torch.max(output.data, 1)\n",
    "            \n",
    "            targets.extend(labels_v.cpu().numpy())\n",
    "            predictions.extend(predicted.cpu().numpy())\n",
    "            \n",
    "        \n",
    "        mlflow.log_metric(\"val_loss\", sum(running_loss_dev) / len(running_loss_dev), epoch)\n",
    "        mlflow.log_metric(\"total_accuracy\", balanced_accuracy_score(targets, predictions), epoch)\n",
    "        \n",
    "        historyCNN3['val_loss'].append((sum(running_loss_dev) / len(running_loss_dev), epoch))\n",
    "        historyCNN3['total_accuracy'].append((balanced_accuracy_score(targets, predictions), epoch))\n",
    "       \n",
    "        print(f'Perdida-loss/validacion: {sum(running_loss_dev)/len(running_loss_dev)}')\n",
    "        print(f'total_accuracy: {balanced_accuracy_score(targets, predictions)}')\n",
    "\n",
    "                        "
   ]
  },
  {
   "cell_type": "code",
   "execution_count": null,
   "id": "e75ddf48",
   "metadata": {},
   "outputs": [],
   "source": [
    "data = []\n",
    "for epoch, (train_loss, val_loss) in enumerate(zip(\n",
    "        historyCNN3['train_loss'], historyCNN3['val_loss'])):\n",
    "    print((epoch, 'Entrenamiento', train_loss[0]))\n",
    "    print((epoch, 'Validación', val_loss[0]))\n",
    "    data.append((epoch, 'Entrenamiento', train_loss[0]))\n",
    "    data.append((epoch, 'Validación', val_loss[0]))\n",
    "data = pd.DataFrame(data=data, columns=['Epoch', 'Conjunto', 'Loss'])"
   ]
  },
  {
   "cell_type": "code",
   "execution_count": null,
   "id": "742ec424",
   "metadata": {},
   "outputs": [],
   "source": [
    "f, ax = plt.subplots(1,2, figsize=(15,5))\n",
    "\n",
    "data.loc[data.Conjunto=='Entrenamiento', ['Epoch', 'Loss']].plot(x='Epoch', y='Loss', ax=ax[0],\n",
    "                                     kind='line',marker='o',title='Epoca vs Loss \\nEntrenamiento')\n",
    "data.loc[data.Conjunto=='Validación', ['Epoch', 'Loss']].plot(x='Epoch', y='Loss', ax=ax[1],\n",
    "                                                        kind='line',marker='o',title='Epoca vs Loss \\nValidación')\n",
    "plt.show()"
   ]
  },
  {
   "cell_type": "code",
   "execution_count": null,
   "id": "08f5b34d",
   "metadata": {},
   "outputs": [],
   "source": [
    "data = []\n",
    "for total_accuracy,epoch in historyCNN3['total_accuracy']:\n",
    "    data.append((epoch,'test_avp',total_accuracy))\n",
    "data = pd.DataFrame(data=data, columns=['Epoch', 'Conjunto', 'total_accuracy'])\n",
    "sns.pointplot(\n",
    "    data=data, x='Epoch', y='test_avp', hue='Conjunto', palette='husl')\n",
    "plt.show()"
   ]
  },
  {
   "cell_type": "markdown",
   "id": "f1f56a3c",
   "metadata": {},
   "source": [
    "# Conclusiones:\n",
    "\n",
    "A nivel general, sobre el conjunto de datos realizamos un preprocesamiento de los datos:\n",
    "1. Concatenamos los conjuntos de datos y a estos se les suministraban a preprocess_test = RawDataProcessor(data), para despues transformar los conjuntos de entrenamiento validacion y prueba con el mismo.\n",
    "\n",
    "2. Se implementaron 2 ejemplos Redes neuronales CNN, para el procesamiento de texto, que presentaban diferencias en cuanto a su estructura.  Cambiamos algunos hiper-parametros como (longitud de los filtros, epocas, tamaño del batch, num_workers, y las tasas de aprendizaje). De ambos experimentos podemos inferir que el modelo con mejor rendimiento fue el mostrado en la prueba 2, el cual se constituia de la siguiente forma:\n",
    "\n",
    "`\n",
    "CNN(\n",
    "  (embeddings): Embedding(50002, 300, padding_idx=0)\n",
    "  (convs): ModuleList(\n",
    "    (0): Conv1d(300, 100, kernel_size=(2,), stride=(1,))\n",
    "    (1): Conv1d(300, 100, kernel_size=(3,), stride=(1,))\n",
    "    (2): Conv1d(300, 100, kernel_size=(4,), stride=(1,))\n",
    "  )\n",
    "  (fc1): Linear(in_features=300, out_features=150, bias=True)\n",
    "  (fc2): Linear(in_features=150, out_features=632, bias=True)\n",
    "  (dropout): Dropout(p=0.3, inplace=False)\n",
    "  (output_layer): Linear(in_features=632, out_features=632, bias=True)\n",
    ")\n",
    "`\n",
    "- Ademas, el modelo presentaba en la capa de salida la funcion `Softmax`  (como nos sugirio el profesor Mauricio), la cual es util para clasificaciones multiclase, dado que transforma los datos a una distribucion de probabilidad. También, para evaluar el error se utilizó `CrossEntropyLoss`.\n",
    "\n",
    "- Asimismo, dentro de las redes ejecutadas cambiamos algunos hiper-parametros como (longitud de los filtros, epocas tamaño del batch, num_workers, y las tasas de aprendizaje).\n",
    "\n",
    "- Consideramos que la red presenta una perdida lenta debido a lo mostrado en los graficos de perdida vs epocas, y el crecimiento de la metrica evaluada. Esto puede indicar una necesidad de modificar a la estructura e hiperparametros, o dar espacio a muchas mas epocas (+1000) para que la red analice a la informacion, esto ultimo basandonos en la tendencia y valores que presentan las curvas.\n",
    "\n"
   ]
  },
  {
   "cell_type": "markdown",
   "id": "a23d4128",
   "metadata": {},
   "source": [
    "### Nota:\n",
    "\n",
    "- Se trato de implementar la prueba #3 pero no se logro guardar el resultado, debido a problematicas relacionadas al nabu, sin embargo se noto hasta la 8 epoca que presentaba una tendencia similar a la red 2. Cabe mencionar que este intento presentaba un cambio en cuanto a la tasa de aprendizaje (era mucho mas pequeña)."
   ]
  },
  {
   "cell_type": "code",
   "execution_count": null,
   "id": "9088c3de",
   "metadata": {},
   "outputs": [],
   "source": []
  }
 ],
 "metadata": {
  "kernelspec": {
   "display_name": "Python 3",
   "language": "python",
   "name": "python3"
  },
  "language_info": {
   "codemirror_mode": {
    "name": "ipython",
    "version": 3
   },
   "file_extension": ".py",
   "mimetype": "text/x-python",
   "name": "python",
   "nbconvert_exporter": "python",
   "pygments_lexer": "ipython3",
   "version": "3.8.10"
  }
 },
 "nbformat": 4,
 "nbformat_minor": 5
}
